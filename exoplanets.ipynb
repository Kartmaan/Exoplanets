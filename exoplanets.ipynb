{
 "cells": [
  {
   "cell_type": "markdown",
   "metadata": {},
   "source": [
    "# Exoplanets\n",
    "\n",
    "This dataset comes from the NASA Exoplanet Archive and lists most of the known exoplanets and their characteristics\n",
    "\n",
    "Source : https://exoplanetarchive.ipac.caltech.edu/cgi-bin/TblView/nph-tblView?app=ExoTbls&config=PS\n",
    "\n",
    "Columns description : https://exoplanetarchive.ipac.caltech.edu/docs/API_PS_columns.html"
   ]
  },
  {
   "cell_type": "code",
   "execution_count": 88,
   "metadata": {},
   "outputs": [],
   "source": [
    "import pandas as pd\n",
    "\n",
    "from functions.arithm import perc, perc_var\n",
    "from functions.tools import mem, nan, date_minmax, to_df\n",
    "from functions.ploting import to_img, plot_counts, plot_disc_meth"
   ]
  },
  {
   "cell_type": "code",
   "execution_count": 89,
   "metadata": {},
   "outputs": [],
   "source": [
    "df = pd.read_csv('exo_ds.csv', on_bad_lines='skip', low_memory=False)"
   ]
  },
  {
   "cell_type": "markdown",
   "metadata": {},
   "source": [
    "## Exploration\n",
    "A quick exploration of this dataset"
   ]
  },
  {
   "cell_type": "code",
   "execution_count": 90,
   "metadata": {},
   "outputs": [
    {
     "data": {
      "text/plain": [
       "(33376, 121)"
      ]
     },
     "execution_count": 90,
     "metadata": {},
     "output_type": "execute_result"
    }
   ],
   "source": [
    "df.shape"
   ]
  },
  {
   "cell_type": "code",
   "execution_count": 91,
   "metadata": {},
   "outputs": [
    {
     "name": "stdout",
     "output_type": "stream",
     "text": [
      "<class 'pandas.core.frame.DataFrame'>\n",
      "RangeIndex: 33376 entries, 0 to 33375\n",
      "Columns: 121 entries, rowid to pl_ntranspec;;;;;;\n",
      "dtypes: float64(69), int64(24), object(28)\n",
      "memory usage: 30.8+ MB\n"
     ]
    }
   ],
   "source": [
    "df.info()"
   ]
  },
  {
   "cell_type": "code",
   "execution_count": 92,
   "metadata": {},
   "outputs": [
    {
     "data": {
      "text/html": [
       "<div>\n",
       "<style scoped>\n",
       "    .dataframe tbody tr th:only-of-type {\n",
       "        vertical-align: middle;\n",
       "    }\n",
       "\n",
       "    .dataframe tbody tr th {\n",
       "        vertical-align: top;\n",
       "    }\n",
       "\n",
       "    .dataframe thead th {\n",
       "        text-align: right;\n",
       "    }\n",
       "</style>\n",
       "<table border=\"1\" class=\"dataframe\">\n",
       "  <thead>\n",
       "    <tr style=\"text-align: right;\">\n",
       "      <th></th>\n",
       "      <th>rowid</th>\n",
       "      <th>pl_name</th>\n",
       "      <th>hostname</th>\n",
       "      <th>pl_letter</th>\n",
       "      <th>hd_name</th>\n",
       "      <th>hip_name</th>\n",
       "      <th>tic_id</th>\n",
       "      <th>gaia_id</th>\n",
       "      <th>default_flag</th>\n",
       "      <th>sy_snum</th>\n",
       "      <th>...</th>\n",
       "      <th>sy_kepmag</th>\n",
       "      <th>rowupdate</th>\n",
       "      <th>pl_pubdate</th>\n",
       "      <th>releasedate</th>\n",
       "      <th>pl_nnotes</th>\n",
       "      <th>st_nphot</th>\n",
       "      <th>st_nrvc</th>\n",
       "      <th>st_nspec</th>\n",
       "      <th>pl_nespec</th>\n",
       "      <th>pl_ntranspec;;;;;;</th>\n",
       "    </tr>\n",
       "  </thead>\n",
       "  <tbody>\n",
       "    <tr>\n",
       "      <th>0</th>\n",
       "      <td>1</td>\n",
       "      <td>11 Com b</td>\n",
       "      <td>11 Com</td>\n",
       "      <td>b</td>\n",
       "      <td>HD 107383</td>\n",
       "      <td>HIP 60202</td>\n",
       "      <td>TIC 72437047</td>\n",
       "      <td>Gaia DR2 3946945413106333696</td>\n",
       "      <td>1</td>\n",
       "      <td>2</td>\n",
       "      <td>...</td>\n",
       "      <td>NaN</td>\n",
       "      <td>2014-05-14</td>\n",
       "      <td>2008-01</td>\n",
       "      <td>2014-05-14</td>\n",
       "      <td>2</td>\n",
       "      <td>1</td>\n",
       "      <td>2</td>\n",
       "      <td>0</td>\n",
       "      <td>0</td>\n",
       "      <td>0;;;;;;</td>\n",
       "    </tr>\n",
       "    <tr>\n",
       "      <th>1</th>\n",
       "      <td>2</td>\n",
       "      <td>11 Com b</td>\n",
       "      <td>11 Com</td>\n",
       "      <td>b</td>\n",
       "      <td>HD 107383</td>\n",
       "      <td>HIP 60202</td>\n",
       "      <td>TIC 72437047</td>\n",
       "      <td>Gaia DR2 3946945413106333696</td>\n",
       "      <td>0</td>\n",
       "      <td>2</td>\n",
       "      <td>...</td>\n",
       "      <td>NaN</td>\n",
       "      <td>2014-07-23</td>\n",
       "      <td>2011-08</td>\n",
       "      <td>2014-07-23</td>\n",
       "      <td>2</td>\n",
       "      <td>1</td>\n",
       "      <td>2</td>\n",
       "      <td>0</td>\n",
       "      <td>0</td>\n",
       "      <td>0;;;;;;</td>\n",
       "    </tr>\n",
       "    <tr>\n",
       "      <th>2</th>\n",
       "      <td>3</td>\n",
       "      <td>11 UMi b</td>\n",
       "      <td>11 UMi</td>\n",
       "      <td>b</td>\n",
       "      <td>HD 136726</td>\n",
       "      <td>HIP 74793</td>\n",
       "      <td>TIC 230061010</td>\n",
       "      <td>Gaia DR2 1696798367260229376</td>\n",
       "      <td>0</td>\n",
       "      <td>1</td>\n",
       "      <td>...</td>\n",
       "      <td>NaN</td>\n",
       "      <td>2018-04-25</td>\n",
       "      <td>2009-10</td>\n",
       "      <td>2014-05-14</td>\n",
       "      <td>0</td>\n",
       "      <td>1</td>\n",
       "      <td>1</td>\n",
       "      <td>0</td>\n",
       "      <td>0</td>\n",
       "      <td>0;;;;;;</td>\n",
       "    </tr>\n",
       "    <tr>\n",
       "      <th>3</th>\n",
       "      <td>4</td>\n",
       "      <td>11 UMi b</td>\n",
       "      <td>11 UMi</td>\n",
       "      <td>b</td>\n",
       "      <td>HD 136726</td>\n",
       "      <td>HIP 74793</td>\n",
       "      <td>TIC 230061010</td>\n",
       "      <td>Gaia DR2 1696798367260229376</td>\n",
       "      <td>0</td>\n",
       "      <td>1</td>\n",
       "      <td>...</td>\n",
       "      <td>NaN</td>\n",
       "      <td>2018-04-25</td>\n",
       "      <td>2011-08</td>\n",
       "      <td>2014-07-23</td>\n",
       "      <td>0</td>\n",
       "      <td>1</td>\n",
       "      <td>1</td>\n",
       "      <td>0</td>\n",
       "      <td>0</td>\n",
       "      <td>0;;;;;;</td>\n",
       "    </tr>\n",
       "    <tr>\n",
       "      <th>4</th>\n",
       "      <td>5</td>\n",
       "      <td>11 UMi b</td>\n",
       "      <td>11 UMi</td>\n",
       "      <td>b</td>\n",
       "      <td>HD 136726</td>\n",
       "      <td>HIP 74793</td>\n",
       "      <td>TIC 230061010</td>\n",
       "      <td>Gaia DR2 1696798367260229376</td>\n",
       "      <td>1</td>\n",
       "      <td>1</td>\n",
       "      <td>...</td>\n",
       "      <td>NaN</td>\n",
       "      <td>2018-09-04</td>\n",
       "      <td>2017-03</td>\n",
       "      <td>2018-09-06</td>\n",
       "      <td>0</td>\n",
       "      <td>1</td>\n",
       "      <td>1</td>\n",
       "      <td>0</td>\n",
       "      <td>0</td>\n",
       "      <td>0;;;;;;</td>\n",
       "    </tr>\n",
       "    <tr>\n",
       "      <th>5</th>\n",
       "      <td>6</td>\n",
       "      <td>14 And b</td>\n",
       "      <td>14 And</td>\n",
       "      <td>b</td>\n",
       "      <td>HD 221345</td>\n",
       "      <td>HIP 116076</td>\n",
       "      <td>TIC 333225860</td>\n",
       "      <td>Gaia DR2 1920113512486282240</td>\n",
       "      <td>1</td>\n",
       "      <td>1</td>\n",
       "      <td>...</td>\n",
       "      <td>NaN</td>\n",
       "      <td>2014-05-14</td>\n",
       "      <td>2008-12</td>\n",
       "      <td>2014-05-14</td>\n",
       "      <td>0</td>\n",
       "      <td>1</td>\n",
       "      <td>1</td>\n",
       "      <td>0</td>\n",
       "      <td>0</td>\n",
       "      <td>0;;;;;;</td>\n",
       "    </tr>\n",
       "    <tr>\n",
       "      <th>6</th>\n",
       "      <td>7</td>\n",
       "      <td>14 And b</td>\n",
       "      <td>14 And</td>\n",
       "      <td>b</td>\n",
       "      <td>HD 221345</td>\n",
       "      <td>HIP 116076</td>\n",
       "      <td>TIC 333225860</td>\n",
       "      <td>Gaia DR2 1920113512486282240</td>\n",
       "      <td>0</td>\n",
       "      <td>1</td>\n",
       "      <td>...</td>\n",
       "      <td>NaN</td>\n",
       "      <td>2014-07-23</td>\n",
       "      <td>2011-08</td>\n",
       "      <td>2014-07-23</td>\n",
       "      <td>0</td>\n",
       "      <td>1</td>\n",
       "      <td>1</td>\n",
       "      <td>0</td>\n",
       "      <td>0</td>\n",
       "      <td>0;;;;;;</td>\n",
       "    </tr>\n",
       "    <tr>\n",
       "      <th>7</th>\n",
       "      <td>8</td>\n",
       "      <td>14 Her b</td>\n",
       "      <td>14 Her</td>\n",
       "      <td>b</td>\n",
       "      <td>HD 145675</td>\n",
       "      <td>HIP 79248</td>\n",
       "      <td>TIC 219483057</td>\n",
       "      <td>Gaia DR2 1385293808145621504</td>\n",
       "      <td>0</td>\n",
       "      <td>1</td>\n",
       "      <td>...</td>\n",
       "      <td>NaN</td>\n",
       "      <td>2018-04-25</td>\n",
       "      <td>2004-01</td>\n",
       "      <td>2014-08-21</td>\n",
       "      <td>0</td>\n",
       "      <td>1</td>\n",
       "      <td>4</td>\n",
       "      <td>1</td>\n",
       "      <td>0</td>\n",
       "      <td>0;;;;;;</td>\n",
       "    </tr>\n",
       "    <tr>\n",
       "      <th>8</th>\n",
       "      <td>9</td>\n",
       "      <td>14 Her b</td>\n",
       "      <td>14 Her</td>\n",
       "      <td>b</td>\n",
       "      <td>HD 145675</td>\n",
       "      <td>HIP 79248</td>\n",
       "      <td>TIC 219483057</td>\n",
       "      <td>Gaia DR2 1385293808145621504</td>\n",
       "      <td>0</td>\n",
       "      <td>1</td>\n",
       "      <td>...</td>\n",
       "      <td>NaN</td>\n",
       "      <td>2021-09-20</td>\n",
       "      <td>2021-07</td>\n",
       "      <td>2021-09-20</td>\n",
       "      <td>0</td>\n",
       "      <td>1</td>\n",
       "      <td>4</td>\n",
       "      <td>1</td>\n",
       "      <td>0</td>\n",
       "      <td>0;;;;;;</td>\n",
       "    </tr>\n",
       "    <tr>\n",
       "      <th>9</th>\n",
       "      <td>10</td>\n",
       "      <td>14 Her b</td>\n",
       "      <td>14 Her</td>\n",
       "      <td>b</td>\n",
       "      <td>HD 145675</td>\n",
       "      <td>HIP 79248</td>\n",
       "      <td>TIC 219483057</td>\n",
       "      <td>Gaia DR2 1385293808145621504</td>\n",
       "      <td>0</td>\n",
       "      <td>1</td>\n",
       "      <td>...</td>\n",
       "      <td>NaN</td>\n",
       "      <td>2018-04-25</td>\n",
       "      <td>2008-04</td>\n",
       "      <td>2014-08-21</td>\n",
       "      <td>0</td>\n",
       "      <td>1</td>\n",
       "      <td>4</td>\n",
       "      <td>1</td>\n",
       "      <td>0</td>\n",
       "      <td>0;;;;;;</td>\n",
       "    </tr>\n",
       "  </tbody>\n",
       "</table>\n",
       "<p>10 rows × 121 columns</p>\n",
       "</div>"
      ],
      "text/plain": [
       "   rowid   pl_name hostname pl_letter    hd_name    hip_name         tic_id  \\\n",
       "0      1  11 Com b   11 Com         b  HD 107383   HIP 60202   TIC 72437047   \n",
       "1      2  11 Com b   11 Com         b  HD 107383   HIP 60202   TIC 72437047   \n",
       "2      3  11 UMi b   11 UMi         b  HD 136726   HIP 74793  TIC 230061010   \n",
       "3      4  11 UMi b   11 UMi         b  HD 136726   HIP 74793  TIC 230061010   \n",
       "4      5  11 UMi b   11 UMi         b  HD 136726   HIP 74793  TIC 230061010   \n",
       "5      6  14 And b   14 And         b  HD 221345  HIP 116076  TIC 333225860   \n",
       "6      7  14 And b   14 And         b  HD 221345  HIP 116076  TIC 333225860   \n",
       "7      8  14 Her b   14 Her         b  HD 145675   HIP 79248  TIC 219483057   \n",
       "8      9  14 Her b   14 Her         b  HD 145675   HIP 79248  TIC 219483057   \n",
       "9     10  14 Her b   14 Her         b  HD 145675   HIP 79248  TIC 219483057   \n",
       "\n",
       "                        gaia_id  default_flag  sy_snum  ...  sy_kepmag  \\\n",
       "0  Gaia DR2 3946945413106333696             1        2  ...        NaN   \n",
       "1  Gaia DR2 3946945413106333696             0        2  ...        NaN   \n",
       "2  Gaia DR2 1696798367260229376             0        1  ...        NaN   \n",
       "3  Gaia DR2 1696798367260229376             0        1  ...        NaN   \n",
       "4  Gaia DR2 1696798367260229376             1        1  ...        NaN   \n",
       "5  Gaia DR2 1920113512486282240             1        1  ...        NaN   \n",
       "6  Gaia DR2 1920113512486282240             0        1  ...        NaN   \n",
       "7  Gaia DR2 1385293808145621504             0        1  ...        NaN   \n",
       "8  Gaia DR2 1385293808145621504             0        1  ...        NaN   \n",
       "9  Gaia DR2 1385293808145621504             0        1  ...        NaN   \n",
       "\n",
       "    rowupdate  pl_pubdate releasedate  pl_nnotes st_nphot st_nrvc st_nspec  \\\n",
       "0  2014-05-14     2008-01  2014-05-14          2        1       2        0   \n",
       "1  2014-07-23     2011-08  2014-07-23          2        1       2        0   \n",
       "2  2018-04-25     2009-10  2014-05-14          0        1       1        0   \n",
       "3  2018-04-25     2011-08  2014-07-23          0        1       1        0   \n",
       "4  2018-09-04     2017-03  2018-09-06          0        1       1        0   \n",
       "5  2014-05-14     2008-12  2014-05-14          0        1       1        0   \n",
       "6  2014-07-23     2011-08  2014-07-23          0        1       1        0   \n",
       "7  2018-04-25     2004-01  2014-08-21          0        1       4        1   \n",
       "8  2021-09-20     2021-07  2021-09-20          0        1       4        1   \n",
       "9  2018-04-25     2008-04  2014-08-21          0        1       4        1   \n",
       "\n",
       "  pl_nespec pl_ntranspec;;;;;;  \n",
       "0         0            0;;;;;;  \n",
       "1         0            0;;;;;;  \n",
       "2         0            0;;;;;;  \n",
       "3         0            0;;;;;;  \n",
       "4         0            0;;;;;;  \n",
       "5         0            0;;;;;;  \n",
       "6         0            0;;;;;;  \n",
       "7         0            0;;;;;;  \n",
       "8         0            0;;;;;;  \n",
       "9         0            0;;;;;;  \n",
       "\n",
       "[10 rows x 121 columns]"
      ]
     },
     "execution_count": 92,
     "metadata": {},
     "output_type": "execute_result"
    }
   ],
   "source": [
    "df.head(10)"
   ]
  },
  {
   "cell_type": "markdown",
   "metadata": {},
   "source": [
    "From the top of its 33376 rows and 121 columns, this dataset seems relatively large. \n",
    "\n",
    "Based on these first 10 lines, we notice that several planets are duplicated, for example '11 Com b' appears 3 times, which may explain the depth of the dataset. This problem should be addressed in the 'data cleaning' section.\n",
    "\n",
    "We also notice that the last column seems to have a rather strange syntax: `pl_ntranspec;;;;;;`. This is probably an error that will also have to be fixed in the Data Cleaning part"
   ]
  },
  {
   "cell_type": "markdown",
   "metadata": {},
   "source": [
    "### Column descriptions"
   ]
  },
  {
   "cell_type": "markdown",
   "metadata": {},
   "source": [
    "Not all of these 121 columns will be exploited here, but we will nevertheless try to provide a description of those that seem to us to be the most important.\n",
    "\n",
    "The descriptions of all the columns we have chosen to keep are listed in the file *columns_description.md*"
   ]
  },
  {
   "cell_type": "markdown",
   "metadata": {},
   "source": [
    "## Data Cleaning\n",
    "Cleaning up superfluous data"
   ]
  },
  {
   "cell_type": "markdown",
   "metadata": {},
   "source": [
    "Before starting the cleaning phase, let's keep a few parameters in mind in order to define later in what proportions the dataframe has been reduced"
   ]
  },
  {
   "cell_type": "code",
   "execution_count": 93,
   "metadata": {},
   "outputs": [],
   "source": [
    "df_mem_before = mem(df, unit='MB')\n",
    "df_shape_before = df.shape"
   ]
  },
  {
   "cell_type": "markdown",
   "metadata": {},
   "source": [
    "### Duplicates"
   ]
  },
  {
   "cell_type": "code",
   "execution_count": 94,
   "metadata": {},
   "outputs": [
    {
     "data": {
      "text/plain": [
       "(33376, 121)"
      ]
     },
     "execution_count": 94,
     "metadata": {},
     "output_type": "execute_result"
    }
   ],
   "source": [
    "df.shape"
   ]
  },
  {
   "cell_type": "markdown",
   "metadata": {},
   "source": [
    "At the date of August 1st 2022 more than 5000 exoplanets could be counted, however, the `shape` function seems to tell us that the dataset has 33376 lines\n",
    "\n",
    "The reason for this is that this dataset has **several sets of parameters coming from various papers**, each of the exoplanets listed can therefore appear several times (one line for each paper published). Thus, the 33376 lines returned by the `shape` function do not refer to the numbers of exoplanets recorded. \n",
    "\n",
    "To illustrate this, let us take as an example the planet WASP-39 b"
   ]
  },
  {
   "cell_type": "code",
   "execution_count": 95,
   "metadata": {},
   "outputs": [
    {
     "data": {
      "text/html": [
       "<div>\n",
       "<style scoped>\n",
       "    .dataframe tbody tr th:only-of-type {\n",
       "        vertical-align: middle;\n",
       "    }\n",
       "\n",
       "    .dataframe tbody tr th {\n",
       "        vertical-align: top;\n",
       "    }\n",
       "\n",
       "    .dataframe thead th {\n",
       "        text-align: right;\n",
       "    }\n",
       "</style>\n",
       "<table border=\"1\" class=\"dataframe\">\n",
       "  <thead>\n",
       "    <tr style=\"text-align: right;\">\n",
       "      <th></th>\n",
       "      <th>rowid</th>\n",
       "      <th>pl_name</th>\n",
       "      <th>hostname</th>\n",
       "      <th>pl_letter</th>\n",
       "      <th>hd_name</th>\n",
       "      <th>hip_name</th>\n",
       "      <th>tic_id</th>\n",
       "      <th>gaia_id</th>\n",
       "      <th>default_flag</th>\n",
       "      <th>sy_snum</th>\n",
       "      <th>...</th>\n",
       "      <th>sy_kepmag</th>\n",
       "      <th>rowupdate</th>\n",
       "      <th>pl_pubdate</th>\n",
       "      <th>releasedate</th>\n",
       "      <th>pl_nnotes</th>\n",
       "      <th>st_nphot</th>\n",
       "      <th>st_nrvc</th>\n",
       "      <th>st_nspec</th>\n",
       "      <th>pl_nespec</th>\n",
       "      <th>pl_ntranspec;;;;;;</th>\n",
       "    </tr>\n",
       "  </thead>\n",
       "  <tbody>\n",
       "    <tr>\n",
       "      <th>32771</th>\n",
       "      <td>32772</td>\n",
       "      <td>WASP-39 b</td>\n",
       "      <td>WASP-39</td>\n",
       "      <td>b</td>\n",
       "      <td>NaN</td>\n",
       "      <td>NaN</td>\n",
       "      <td>TIC 181949561</td>\n",
       "      <td>Gaia DR2 3643098875168270592</td>\n",
       "      <td>0</td>\n",
       "      <td>1</td>\n",
       "      <td>...</td>\n",
       "      <td>NaN</td>\n",
       "      <td>2019-03-18</td>\n",
       "      <td>2017-06</td>\n",
       "      <td>2019-03-21</td>\n",
       "      <td>0</td>\n",
       "      <td>0</td>\n",
       "      <td>2</td>\n",
       "      <td>0</td>\n",
       "      <td>2</td>\n",
       "      <td>636;;;;;;</td>\n",
       "    </tr>\n",
       "    <tr>\n",
       "      <th>32772</th>\n",
       "      <td>32773</td>\n",
       "      <td>WASP-39 b</td>\n",
       "      <td>WASP-39</td>\n",
       "      <td>b</td>\n",
       "      <td>NaN</td>\n",
       "      <td>NaN</td>\n",
       "      <td>TIC 181949561</td>\n",
       "      <td>Gaia DR2 3643098875168270592</td>\n",
       "      <td>0</td>\n",
       "      <td>1</td>\n",
       "      <td>...</td>\n",
       "      <td>NaN</td>\n",
       "      <td>2019-11-27</td>\n",
       "      <td>2018-05</td>\n",
       "      <td>2019-12-05</td>\n",
       "      <td>0</td>\n",
       "      <td>0</td>\n",
       "      <td>2</td>\n",
       "      <td>0</td>\n",
       "      <td>2</td>\n",
       "      <td>636;;;;;;</td>\n",
       "    </tr>\n",
       "    <tr>\n",
       "      <th>32773</th>\n",
       "      <td>32774</td>\n",
       "      <td>WASP-39 b</td>\n",
       "      <td>WASP-39</td>\n",
       "      <td>b</td>\n",
       "      <td>NaN</td>\n",
       "      <td>NaN</td>\n",
       "      <td>TIC 181949561</td>\n",
       "      <td>Gaia DR2 3643098875168270592</td>\n",
       "      <td>0</td>\n",
       "      <td>1</td>\n",
       "      <td>...</td>\n",
       "      <td>NaN</td>\n",
       "      <td>2016-04-27</td>\n",
       "      <td>2016-01</td>\n",
       "      <td>2016-04-28</td>\n",
       "      <td>0</td>\n",
       "      <td>0</td>\n",
       "      <td>2</td>\n",
       "      <td>0</td>\n",
       "      <td>2</td>\n",
       "      <td>636;;;;;;</td>\n",
       "    </tr>\n",
       "    <tr>\n",
       "      <th>32774</th>\n",
       "      <td>32775</td>\n",
       "      <td>WASP-39 b</td>\n",
       "      <td>WASP-39</td>\n",
       "      <td>b</td>\n",
       "      <td>NaN</td>\n",
       "      <td>NaN</td>\n",
       "      <td>TIC 181949561</td>\n",
       "      <td>Gaia DR2 3643098875168270592</td>\n",
       "      <td>0</td>\n",
       "      <td>1</td>\n",
       "      <td>...</td>\n",
       "      <td>NaN</td>\n",
       "      <td>2016-09-06</td>\n",
       "      <td>2016-08</td>\n",
       "      <td>2016-09-08</td>\n",
       "      <td>0</td>\n",
       "      <td>0</td>\n",
       "      <td>2</td>\n",
       "      <td>0</td>\n",
       "      <td>2</td>\n",
       "      <td>636;;;;;;</td>\n",
       "    </tr>\n",
       "    <tr>\n",
       "      <th>32775</th>\n",
       "      <td>32776</td>\n",
       "      <td>WASP-39 b</td>\n",
       "      <td>WASP-39</td>\n",
       "      <td>b</td>\n",
       "      <td>NaN</td>\n",
       "      <td>NaN</td>\n",
       "      <td>TIC 181949561</td>\n",
       "      <td>Gaia DR2 3643098875168270592</td>\n",
       "      <td>0</td>\n",
       "      <td>1</td>\n",
       "      <td>...</td>\n",
       "      <td>NaN</td>\n",
       "      <td>2022-08-09</td>\n",
       "      <td>2017-07</td>\n",
       "      <td>2022-08-09</td>\n",
       "      <td>0</td>\n",
       "      <td>0</td>\n",
       "      <td>2</td>\n",
       "      <td>0</td>\n",
       "      <td>2</td>\n",
       "      <td>636;;;;;;</td>\n",
       "    </tr>\n",
       "    <tr>\n",
       "      <th>32776</th>\n",
       "      <td>32777</td>\n",
       "      <td>WASP-39 b</td>\n",
       "      <td>WASP-39</td>\n",
       "      <td>b</td>\n",
       "      <td>NaN</td>\n",
       "      <td>NaN</td>\n",
       "      <td>TIC 181949561</td>\n",
       "      <td>Gaia DR2 3643098875168270592</td>\n",
       "      <td>0</td>\n",
       "      <td>1</td>\n",
       "      <td>...</td>\n",
       "      <td>NaN</td>\n",
       "      <td>2016-01-12</td>\n",
       "      <td>2016-01</td>\n",
       "      <td>2016-01-14</td>\n",
       "      <td>0</td>\n",
       "      <td>0</td>\n",
       "      <td>2</td>\n",
       "      <td>0</td>\n",
       "      <td>2</td>\n",
       "      <td>636;;;;;;</td>\n",
       "    </tr>\n",
       "    <tr>\n",
       "      <th>32777</th>\n",
       "      <td>32778</td>\n",
       "      <td>WASP-39 b</td>\n",
       "      <td>WASP-39</td>\n",
       "      <td>b</td>\n",
       "      <td>NaN</td>\n",
       "      <td>NaN</td>\n",
       "      <td>TIC 181949561</td>\n",
       "      <td>Gaia DR2 3643098875168270592</td>\n",
       "      <td>0</td>\n",
       "      <td>1</td>\n",
       "      <td>...</td>\n",
       "      <td>NaN</td>\n",
       "      <td>2015-01-08</td>\n",
       "      <td>2015-02</td>\n",
       "      <td>2015-01-08</td>\n",
       "      <td>0</td>\n",
       "      <td>0</td>\n",
       "      <td>2</td>\n",
       "      <td>0</td>\n",
       "      <td>2</td>\n",
       "      <td>636;;;;;;</td>\n",
       "    </tr>\n",
       "    <tr>\n",
       "      <th>32778</th>\n",
       "      <td>32779</td>\n",
       "      <td>WASP-39 b</td>\n",
       "      <td>WASP-39</td>\n",
       "      <td>b</td>\n",
       "      <td>NaN</td>\n",
       "      <td>NaN</td>\n",
       "      <td>TIC 181949561</td>\n",
       "      <td>Gaia DR2 3643098875168270592</td>\n",
       "      <td>0</td>\n",
       "      <td>1</td>\n",
       "      <td>...</td>\n",
       "      <td>NaN</td>\n",
       "      <td>2016-10-12</td>\n",
       "      <td>2017-01</td>\n",
       "      <td>2016-10-13</td>\n",
       "      <td>0</td>\n",
       "      <td>0</td>\n",
       "      <td>2</td>\n",
       "      <td>0</td>\n",
       "      <td>2</td>\n",
       "      <td>636;;;;;;</td>\n",
       "    </tr>\n",
       "    <tr>\n",
       "      <th>32779</th>\n",
       "      <td>32780</td>\n",
       "      <td>WASP-39 b</td>\n",
       "      <td>WASP-39</td>\n",
       "      <td>b</td>\n",
       "      <td>NaN</td>\n",
       "      <td>NaN</td>\n",
       "      <td>TIC 181949561</td>\n",
       "      <td>Gaia DR2 3643098875168270592</td>\n",
       "      <td>1</td>\n",
       "      <td>1</td>\n",
       "      <td>...</td>\n",
       "      <td>NaN</td>\n",
       "      <td>2014-05-14</td>\n",
       "      <td>2011-07</td>\n",
       "      <td>2014-05-14</td>\n",
       "      <td>0</td>\n",
       "      <td>0</td>\n",
       "      <td>2</td>\n",
       "      <td>0</td>\n",
       "      <td>2</td>\n",
       "      <td>636;;;;;;</td>\n",
       "    </tr>\n",
       "  </tbody>\n",
       "</table>\n",
       "<p>9 rows × 121 columns</p>\n",
       "</div>"
      ],
      "text/plain": [
       "       rowid    pl_name hostname pl_letter hd_name hip_name         tic_id  \\\n",
       "32771  32772  WASP-39 b  WASP-39         b     NaN      NaN  TIC 181949561   \n",
       "32772  32773  WASP-39 b  WASP-39         b     NaN      NaN  TIC 181949561   \n",
       "32773  32774  WASP-39 b  WASP-39         b     NaN      NaN  TIC 181949561   \n",
       "32774  32775  WASP-39 b  WASP-39         b     NaN      NaN  TIC 181949561   \n",
       "32775  32776  WASP-39 b  WASP-39         b     NaN      NaN  TIC 181949561   \n",
       "32776  32777  WASP-39 b  WASP-39         b     NaN      NaN  TIC 181949561   \n",
       "32777  32778  WASP-39 b  WASP-39         b     NaN      NaN  TIC 181949561   \n",
       "32778  32779  WASP-39 b  WASP-39         b     NaN      NaN  TIC 181949561   \n",
       "32779  32780  WASP-39 b  WASP-39         b     NaN      NaN  TIC 181949561   \n",
       "\n",
       "                            gaia_id  default_flag  sy_snum  ...  sy_kepmag  \\\n",
       "32771  Gaia DR2 3643098875168270592             0        1  ...        NaN   \n",
       "32772  Gaia DR2 3643098875168270592             0        1  ...        NaN   \n",
       "32773  Gaia DR2 3643098875168270592             0        1  ...        NaN   \n",
       "32774  Gaia DR2 3643098875168270592             0        1  ...        NaN   \n",
       "32775  Gaia DR2 3643098875168270592             0        1  ...        NaN   \n",
       "32776  Gaia DR2 3643098875168270592             0        1  ...        NaN   \n",
       "32777  Gaia DR2 3643098875168270592             0        1  ...        NaN   \n",
       "32778  Gaia DR2 3643098875168270592             0        1  ...        NaN   \n",
       "32779  Gaia DR2 3643098875168270592             1        1  ...        NaN   \n",
       "\n",
       "        rowupdate  pl_pubdate releasedate  pl_nnotes st_nphot st_nrvc  \\\n",
       "32771  2019-03-18     2017-06  2019-03-21          0        0       2   \n",
       "32772  2019-11-27     2018-05  2019-12-05          0        0       2   \n",
       "32773  2016-04-27     2016-01  2016-04-28          0        0       2   \n",
       "32774  2016-09-06     2016-08  2016-09-08          0        0       2   \n",
       "32775  2022-08-09     2017-07  2022-08-09          0        0       2   \n",
       "32776  2016-01-12     2016-01  2016-01-14          0        0       2   \n",
       "32777  2015-01-08     2015-02  2015-01-08          0        0       2   \n",
       "32778  2016-10-12     2017-01  2016-10-13          0        0       2   \n",
       "32779  2014-05-14     2011-07  2014-05-14          0        0       2   \n",
       "\n",
       "      st_nspec pl_nespec pl_ntranspec;;;;;;  \n",
       "32771        0         2          636;;;;;;  \n",
       "32772        0         2          636;;;;;;  \n",
       "32773        0         2          636;;;;;;  \n",
       "32774        0         2          636;;;;;;  \n",
       "32775        0         2          636;;;;;;  \n",
       "32776        0         2          636;;;;;;  \n",
       "32777        0         2          636;;;;;;  \n",
       "32778        0         2          636;;;;;;  \n",
       "32779        0         2          636;;;;;;  \n",
       "\n",
       "[9 rows x 121 columns]"
      ]
     },
     "execution_count": 95,
     "metadata": {},
     "output_type": "execute_result"
    }
   ],
   "source": [
    "wasp_39 = df.loc[df['pl_name'] == 'WASP-39 b']\n",
    "wasp_39"
   ]
  },
  {
   "cell_type": "markdown",
   "metadata": {},
   "source": [
    "We can see that the planet appears 9 times under different publications, at different dates\n",
    "\n",
    "The dataset presents nevertheless a column named `default_flag` which indicates (by boolean value) the reference exoplanet among those duplicated. For this planet it seems that the 2011 publication is set as default entry."
   ]
  },
  {
   "cell_type": "code",
   "execution_count": 96,
   "metadata": {},
   "outputs": [
    {
     "data": {
      "text/html": [
       "<div>\n",
       "<style scoped>\n",
       "    .dataframe tbody tr th:only-of-type {\n",
       "        vertical-align: middle;\n",
       "    }\n",
       "\n",
       "    .dataframe tbody tr th {\n",
       "        vertical-align: top;\n",
       "    }\n",
       "\n",
       "    .dataframe thead th {\n",
       "        text-align: right;\n",
       "    }\n",
       "</style>\n",
       "<table border=\"1\" class=\"dataframe\">\n",
       "  <thead>\n",
       "    <tr style=\"text-align: right;\">\n",
       "      <th></th>\n",
       "      <th>pl_name</th>\n",
       "      <th>default_flag</th>\n",
       "      <th>pl_pubdate</th>\n",
       "    </tr>\n",
       "  </thead>\n",
       "  <tbody>\n",
       "    <tr>\n",
       "      <th>32771</th>\n",
       "      <td>WASP-39 b</td>\n",
       "      <td>0</td>\n",
       "      <td>2017-06</td>\n",
       "    </tr>\n",
       "    <tr>\n",
       "      <th>32772</th>\n",
       "      <td>WASP-39 b</td>\n",
       "      <td>0</td>\n",
       "      <td>2018-05</td>\n",
       "    </tr>\n",
       "    <tr>\n",
       "      <th>32773</th>\n",
       "      <td>WASP-39 b</td>\n",
       "      <td>0</td>\n",
       "      <td>2016-01</td>\n",
       "    </tr>\n",
       "    <tr>\n",
       "      <th>32774</th>\n",
       "      <td>WASP-39 b</td>\n",
       "      <td>0</td>\n",
       "      <td>2016-08</td>\n",
       "    </tr>\n",
       "    <tr>\n",
       "      <th>32775</th>\n",
       "      <td>WASP-39 b</td>\n",
       "      <td>0</td>\n",
       "      <td>2017-07</td>\n",
       "    </tr>\n",
       "    <tr>\n",
       "      <th>32776</th>\n",
       "      <td>WASP-39 b</td>\n",
       "      <td>0</td>\n",
       "      <td>2016-01</td>\n",
       "    </tr>\n",
       "    <tr>\n",
       "      <th>32777</th>\n",
       "      <td>WASP-39 b</td>\n",
       "      <td>0</td>\n",
       "      <td>2015-02</td>\n",
       "    </tr>\n",
       "    <tr>\n",
       "      <th>32778</th>\n",
       "      <td>WASP-39 b</td>\n",
       "      <td>0</td>\n",
       "      <td>2017-01</td>\n",
       "    </tr>\n",
       "    <tr>\n",
       "      <th>32779</th>\n",
       "      <td>WASP-39 b</td>\n",
       "      <td>1</td>\n",
       "      <td>2011-07</td>\n",
       "    </tr>\n",
       "  </tbody>\n",
       "</table>\n",
       "</div>"
      ],
      "text/plain": [
       "         pl_name  default_flag pl_pubdate\n",
       "32771  WASP-39 b             0    2017-06\n",
       "32772  WASP-39 b             0    2018-05\n",
       "32773  WASP-39 b             0    2016-01\n",
       "32774  WASP-39 b             0    2016-08\n",
       "32775  WASP-39 b             0    2017-07\n",
       "32776  WASP-39 b             0    2016-01\n",
       "32777  WASP-39 b             0    2015-02\n",
       "32778  WASP-39 b             0    2017-01\n",
       "32779  WASP-39 b             1    2011-07"
      ]
     },
     "execution_count": 96,
     "metadata": {},
     "output_type": "execute_result"
    }
   ],
   "source": [
    "# Display of the 3 columns that interest us\n",
    "wasp_39[['pl_name', 'default_flag', 'pl_pubdate']]"
   ]
  },
  {
   "cell_type": "markdown",
   "metadata": {},
   "source": [
    "We will use the boolean values of the `default_flag` column to remove duplicate planets from the dataframe, keeping only those with a value of 1.\n",
    "\n",
    "(1) We will first sort all rows in descending order based on the `default_flag` column, so that all '1's appear first, then we use the 'drop_duplicate' function on the `pl_name` column which, by default, keeps only the first occurrence of the duplicated  (taking care to reset the index). At this point, all duplicate planets have already been deleted, leaving only those with a `True` `default_flag`\n",
    "\n",
    "(2) Finally, we decide to sort the dataset alphabetically by 'pl_planet'"
   ]
  },
  {
   "cell_type": "code",
   "execution_count": 97,
   "metadata": {},
   "outputs": [
    {
     "data": {
      "text/html": [
       "<div>\n",
       "<style scoped>\n",
       "    .dataframe tbody tr th:only-of-type {\n",
       "        vertical-align: middle;\n",
       "    }\n",
       "\n",
       "    .dataframe tbody tr th {\n",
       "        vertical-align: top;\n",
       "    }\n",
       "\n",
       "    .dataframe thead th {\n",
       "        text-align: right;\n",
       "    }\n",
       "</style>\n",
       "<table border=\"1\" class=\"dataframe\">\n",
       "  <thead>\n",
       "    <tr style=\"text-align: right;\">\n",
       "      <th></th>\n",
       "      <th>pl_name</th>\n",
       "      <th>default_flag</th>\n",
       "      <th>pl_pubdate</th>\n",
       "    </tr>\n",
       "  </thead>\n",
       "  <tbody>\n",
       "    <tr>\n",
       "      <th>0</th>\n",
       "      <td>11 Com b</td>\n",
       "      <td>1</td>\n",
       "      <td>2008-01</td>\n",
       "    </tr>\n",
       "    <tr>\n",
       "      <th>1</th>\n",
       "      <td>11 UMi b</td>\n",
       "      <td>1</td>\n",
       "      <td>2017-03</td>\n",
       "    </tr>\n",
       "    <tr>\n",
       "      <th>2</th>\n",
       "      <td>14 And b</td>\n",
       "      <td>1</td>\n",
       "      <td>2008-12</td>\n",
       "    </tr>\n",
       "    <tr>\n",
       "      <th>3</th>\n",
       "      <td>14 Her b</td>\n",
       "      <td>1</td>\n",
       "      <td>2022-09</td>\n",
       "    </tr>\n",
       "    <tr>\n",
       "      <th>4</th>\n",
       "      <td>16 Cyg B b</td>\n",
       "      <td>1</td>\n",
       "      <td>2017-03</td>\n",
       "    </tr>\n",
       "    <tr>\n",
       "      <th>...</th>\n",
       "      <td>...</td>\n",
       "      <td>...</td>\n",
       "      <td>...</td>\n",
       "    </tr>\n",
       "    <tr>\n",
       "      <th>5182</th>\n",
       "      <td>ups And b</td>\n",
       "      <td>1</td>\n",
       "      <td>2011-01</td>\n",
       "    </tr>\n",
       "    <tr>\n",
       "      <th>5183</th>\n",
       "      <td>ups And c</td>\n",
       "      <td>1</td>\n",
       "      <td>2011-01</td>\n",
       "    </tr>\n",
       "    <tr>\n",
       "      <th>5184</th>\n",
       "      <td>ups And d</td>\n",
       "      <td>1</td>\n",
       "      <td>2011-01</td>\n",
       "    </tr>\n",
       "    <tr>\n",
       "      <th>5185</th>\n",
       "      <td>ups Leo b</td>\n",
       "      <td>1</td>\n",
       "      <td>2021-12</td>\n",
       "    </tr>\n",
       "    <tr>\n",
       "      <th>5186</th>\n",
       "      <td>xi Aql b</td>\n",
       "      <td>1</td>\n",
       "      <td>2008-06</td>\n",
       "    </tr>\n",
       "  </tbody>\n",
       "</table>\n",
       "<p>5187 rows × 3 columns</p>\n",
       "</div>"
      ],
      "text/plain": [
       "         pl_name  default_flag pl_pubdate\n",
       "0       11 Com b             1    2008-01\n",
       "1       11 UMi b             1    2017-03\n",
       "2       14 And b             1    2008-12\n",
       "3       14 Her b             1    2022-09\n",
       "4     16 Cyg B b             1    2017-03\n",
       "...          ...           ...        ...\n",
       "5182   ups And b             1    2011-01\n",
       "5183   ups And c             1    2011-01\n",
       "5184   ups And d             1    2011-01\n",
       "5185   ups Leo b             1    2021-12\n",
       "5186    xi Aql b             1    2008-06\n",
       "\n",
       "[5187 rows x 3 columns]"
      ]
     },
     "execution_count": 97,
     "metadata": {},
     "output_type": "execute_result"
    }
   ],
   "source": [
    "# 1\n",
    "df = df.sort_values('default_flag', ascending=False).drop_duplicates('pl_name').reset_index()\n",
    "\n",
    "# 2\n",
    "df = df.sort_values('pl_name').reset_index()\n",
    "\n",
    "df[['pl_name', 'default_flag', 'pl_pubdate']]"
   ]
  },
  {
   "cell_type": "markdown",
   "metadata": {},
   "source": [
    "This deletion of duplicates makes us go directly from a dataset of 33376 lines to 5187 lines, which represents a loss of about 84% but brings us closer to the total number of exoplanets known to date."
   ]
  },
  {
   "cell_type": "markdown",
   "metadata": {},
   "source": [
    "### Columns"
   ]
  },
  {
   "cell_type": "markdown",
   "metadata": {},
   "source": [
    "#### Last column syntax\n",
    "Let's start with the last column which seemed to have a strange syntax"
   ]
  },
  {
   "cell_type": "code",
   "execution_count": 98,
   "metadata": {},
   "outputs": [
    {
     "data": {
      "text/plain": [
       "('pl_ntranspec;;;;;;', (5187, 100.0))"
      ]
     },
     "execution_count": 98,
     "metadata": {},
     "output_type": "execute_result"
    }
   ],
   "source": [
    "(df.columns[-1], nan(df.columns[-1], df=df))"
   ]
  },
  {
   "cell_type": "markdown",
   "metadata": {},
   "source": [
    "This column refers to `pl_ntranspec` which denotes the number of literature spectra available for the host star in NASA's exoplanet archive.\n",
    "\n",
    "Since the column has full integrity, it will not be deleted but only renamed first of all"
   ]
  },
  {
   "cell_type": "code",
   "execution_count": 99,
   "metadata": {},
   "outputs": [
    {
     "data": {
      "text/plain": [
       "'pl_ntranspec'"
      ]
     },
     "execution_count": 99,
     "metadata": {},
     "output_type": "execute_result"
    }
   ],
   "source": [
    "# Renaming the column\n",
    "df = df.rename(columns={'pl_ntranspec;;;;;;' : 'pl_ntranspec'})\n",
    "df.columns[-1]"
   ]
  },
  {
   "cell_type": "markdown",
   "metadata": {},
   "source": [
    "This being done, it turns out that `pl_ntranspec` column data also has the same syntax problem, let's see :"
   ]
  },
  {
   "cell_type": "code",
   "execution_count": 100,
   "metadata": {},
   "outputs": [
    {
     "data": {
      "text/plain": [
       "0       0;;;;;;\n",
       "1       0;;;;;;\n",
       "2       0;;;;;;\n",
       "3       0;;;;;;\n",
       "4       0;;;;;;\n",
       "         ...   \n",
       "5182    0;;;;;;\n",
       "5183    0;;;;;;\n",
       "5184    0;;;;;;\n",
       "5185    0;;;;;;\n",
       "5186    0;;;;;;\n",
       "Name: pl_ntranspec, Length: 5187, dtype: object"
      ]
     },
     "execution_count": 100,
     "metadata": {},
     "output_type": "execute_result"
    }
   ],
   "source": [
    "df['pl_ntranspec']"
   ]
  },
  {
   "cell_type": "markdown",
   "metadata": {},
   "source": [
    "The idea would be to get all the inappropriate syntaxes from the column to keep only the digits"
   ]
  },
  {
   "cell_type": "code",
   "execution_count": 101,
   "metadata": {},
   "outputs": [
    {
     "data": {
      "text/plain": [
       "0       0\n",
       "1       0\n",
       "2       0\n",
       "3       0\n",
       "4       0\n",
       "       ..\n",
       "5182    0\n",
       "5183    0\n",
       "5184    0\n",
       "5185    0\n",
       "5186    0\n",
       "Name: pl_ntranspec, Length: 5187, dtype: int64"
      ]
     },
     "execution_count": 101,
     "metadata": {},
     "output_type": "execute_result"
    }
   ],
   "source": [
    "import re\n",
    "\n",
    "def clean(x):\n",
    "    x = x.replace(';', '')\n",
    "    return(int(x))\n",
    "\n",
    "df['pl_ntranspec'] = df['pl_ntranspec'].apply(clean)\n",
    "df['pl_ntranspec']"
   ]
  },
  {
   "cell_type": "markdown",
   "metadata": {},
   "source": [
    "#### Columns integrity\n",
    "There are 123 columns in this dataset, but do they all have a satisfactory level of integrity? Let's see by using our 'nan' function coded above."
   ]
  },
  {
   "cell_type": "code",
   "execution_count": 102,
   "metadata": {},
   "outputs": [],
   "source": [
    "integ_list = []\n",
    "\n",
    "# We pass each column name to the 'nan' function\n",
    "for name in df.columns:\n",
    "    nan_res = nan(name, df=df)\n",
    "    integ_list.append((name, nan_res[0], nan_res[1]))\n",
    "\n",
    "integ_df = pd.DataFrame(integ_list, columns=['column name', 'integrity val', 'integrity rate'])"
   ]
  },
  {
   "cell_type": "code",
   "execution_count": 103,
   "metadata": {},
   "outputs": [
    {
     "data": {
      "text/html": [
       "<div>\n",
       "<style scoped>\n",
       "    .dataframe tbody tr th:only-of-type {\n",
       "        vertical-align: middle;\n",
       "    }\n",
       "\n",
       "    .dataframe tbody tr th {\n",
       "        vertical-align: top;\n",
       "    }\n",
       "\n",
       "    .dataframe thead th {\n",
       "        text-align: right;\n",
       "    }\n",
       "</style>\n",
       "<table border=\"1\" class=\"dataframe\">\n",
       "  <thead>\n",
       "    <tr style=\"text-align: right;\">\n",
       "      <th></th>\n",
       "      <th>integrity val</th>\n",
       "      <th>integrity rate</th>\n",
       "    </tr>\n",
       "  </thead>\n",
       "  <tbody>\n",
       "    <tr>\n",
       "      <th>count</th>\n",
       "      <td>123.000000</td>\n",
       "      <td>123.000000</td>\n",
       "    </tr>\n",
       "    <tr>\n",
       "      <th>mean</th>\n",
       "      <td>3672.373984</td>\n",
       "      <td>70.799431</td>\n",
       "    </tr>\n",
       "    <tr>\n",
       "      <th>std</th>\n",
       "      <td>1922.803769</td>\n",
       "      <td>37.069658</td>\n",
       "    </tr>\n",
       "    <tr>\n",
       "      <th>min</th>\n",
       "      <td>9.000000</td>\n",
       "      <td>0.170000</td>\n",
       "    </tr>\n",
       "    <tr>\n",
       "      <th>25%</th>\n",
       "      <td>1561.500000</td>\n",
       "      <td>30.105000</td>\n",
       "    </tr>\n",
       "    <tr>\n",
       "      <th>50%</th>\n",
       "      <td>5018.000000</td>\n",
       "      <td>96.740000</td>\n",
       "    </tr>\n",
       "    <tr>\n",
       "      <th>75%</th>\n",
       "      <td>5187.000000</td>\n",
       "      <td>100.000000</td>\n",
       "    </tr>\n",
       "    <tr>\n",
       "      <th>max</th>\n",
       "      <td>5187.000000</td>\n",
       "      <td>100.000000</td>\n",
       "    </tr>\n",
       "  </tbody>\n",
       "</table>\n",
       "</div>"
      ],
      "text/plain": [
       "       integrity val  integrity rate\n",
       "count     123.000000      123.000000\n",
       "mean     3672.373984       70.799431\n",
       "std      1922.803769       37.069658\n",
       "min         9.000000        0.170000\n",
       "25%      1561.500000       30.105000\n",
       "50%      5018.000000       96.740000\n",
       "75%      5187.000000      100.000000\n",
       "max      5187.000000      100.000000"
      ]
     },
     "execution_count": 103,
     "metadata": {},
     "output_type": "execute_result"
    }
   ],
   "source": [
    "integ_df.describe()"
   ]
  },
  {
   "cell_type": "markdown",
   "metadata": {},
   "source": [
    "The `describe` function tells us that the average integrity rate of the columns is 70%, i.e. each column has on average 70% of non-empty data, which is rather satisfactory. However, we notice that at least one column has a relatively low integrity rate (0.17%), we will have to check if other columns are concerned. But before, let's refine these results with a code that allows us to know the integrity of the columns by more precise levels"
   ]
  },
  {
   "cell_type": "code",
   "execution_count": 104,
   "metadata": {},
   "outputs": [
    {
     "data": {
      "text/html": [
       "<style type=\"text/css\">\n",
       "</style>\n",
       "<table id=\"T_3ccf0\">\n",
       "  <caption>Analysis by integrity rate bands</caption>\n",
       "  <thead>\n",
       "    <tr>\n",
       "      <th class=\"blank level0\" >&nbsp;</th>\n",
       "      <th id=\"T_3ccf0_level0_col0\" class=\"col_heading level0 col0\" >integrity target (rate >=)</th>\n",
       "      <th id=\"T_3ccf0_level0_col1\" class=\"col_heading level0 col1\" >columns concerned (rate)</th>\n",
       "      <th id=\"T_3ccf0_level0_col2\" class=\"col_heading level0 col2\" >columns not concerned (rate)</th>\n",
       "    </tr>\n",
       "  </thead>\n",
       "  <tbody>\n",
       "    <tr>\n",
       "      <th id=\"T_3ccf0_level0_row0\" class=\"row_heading level0 row0\" >0</th>\n",
       "      <td id=\"T_3ccf0_row0_col0\" class=\"data row0 col0\" >10</td>\n",
       "      <td id=\"T_3ccf0_row0_col1\" class=\"data row0 col1\" >93.500000</td>\n",
       "      <td id=\"T_3ccf0_row0_col2\" class=\"data row0 col2\" >6.500000</td>\n",
       "    </tr>\n",
       "    <tr>\n",
       "      <th id=\"T_3ccf0_level0_row1\" class=\"row_heading level0 row1\" >1</th>\n",
       "      <td id=\"T_3ccf0_row1_col0\" class=\"data row1 col0\" >20</td>\n",
       "      <td id=\"T_3ccf0_row1_col1\" class=\"data row1 col1\" >79.670000</td>\n",
       "      <td id=\"T_3ccf0_row1_col2\" class=\"data row1 col2\" >20.330000</td>\n",
       "    </tr>\n",
       "    <tr>\n",
       "      <th id=\"T_3ccf0_level0_row2\" class=\"row_heading level0 row2\" >2</th>\n",
       "      <td id=\"T_3ccf0_row2_col0\" class=\"data row2 col0\" >30</td>\n",
       "      <td id=\"T_3ccf0_row2_col1\" class=\"data row2 col1\" >74.800000</td>\n",
       "      <td id=\"T_3ccf0_row2_col2\" class=\"data row2 col2\" >25.200000</td>\n",
       "    </tr>\n",
       "    <tr>\n",
       "      <th id=\"T_3ccf0_level0_row3\" class=\"row_heading level0 row3\" >3</th>\n",
       "      <td id=\"T_3ccf0_row3_col0\" class=\"data row3 col0\" >40</td>\n",
       "      <td id=\"T_3ccf0_row3_col1\" class=\"data row3 col1\" >72.360000</td>\n",
       "      <td id=\"T_3ccf0_row3_col2\" class=\"data row3 col2\" >27.640000</td>\n",
       "    </tr>\n",
       "    <tr>\n",
       "      <th id=\"T_3ccf0_level0_row4\" class=\"row_heading level0 row4\" >4</th>\n",
       "      <td id=\"T_3ccf0_row4_col0\" class=\"data row4 col0\" >50</td>\n",
       "      <td id=\"T_3ccf0_row4_col1\" class=\"data row4 col1\" >68.290000</td>\n",
       "      <td id=\"T_3ccf0_row4_col2\" class=\"data row4 col2\" >31.710000</td>\n",
       "    </tr>\n",
       "    <tr>\n",
       "      <th id=\"T_3ccf0_level0_row5\" class=\"row_heading level0 row5\" >5</th>\n",
       "      <td id=\"T_3ccf0_row5_col0\" class=\"data row5 col0\" >60</td>\n",
       "      <td id=\"T_3ccf0_row5_col1\" class=\"data row5 col1\" >66.670000</td>\n",
       "      <td id=\"T_3ccf0_row5_col2\" class=\"data row5 col2\" >33.330000</td>\n",
       "    </tr>\n",
       "    <tr>\n",
       "      <th id=\"T_3ccf0_level0_row6\" class=\"row_heading level0 row6\" >6</th>\n",
       "      <td id=\"T_3ccf0_row6_col0\" class=\"data row6 col0\" >70</td>\n",
       "      <td id=\"T_3ccf0_row6_col1\" class=\"data row6 col1\" >63.410000</td>\n",
       "      <td id=\"T_3ccf0_row6_col2\" class=\"data row6 col2\" >36.590000</td>\n",
       "    </tr>\n",
       "    <tr>\n",
       "      <th id=\"T_3ccf0_level0_row7\" class=\"row_heading level0 row7\" >7</th>\n",
       "      <td id=\"T_3ccf0_row7_col0\" class=\"data row7 col0\" >80</td>\n",
       "      <td id=\"T_3ccf0_row7_col1\" class=\"data row7 col1\" >60.980000</td>\n",
       "      <td id=\"T_3ccf0_row7_col2\" class=\"data row7 col2\" >39.020000</td>\n",
       "    </tr>\n",
       "    <tr>\n",
       "      <th id=\"T_3ccf0_level0_row8\" class=\"row_heading level0 row8\" >8</th>\n",
       "      <td id=\"T_3ccf0_row8_col0\" class=\"data row8 col0\" >90</td>\n",
       "      <td id=\"T_3ccf0_row8_col1\" class=\"data row8 col1\" >55.280000</td>\n",
       "      <td id=\"T_3ccf0_row8_col2\" class=\"data row8 col2\" >44.720000</td>\n",
       "    </tr>\n",
       "    <tr>\n",
       "      <th id=\"T_3ccf0_level0_row9\" class=\"row_heading level0 row9\" >9</th>\n",
       "      <td id=\"T_3ccf0_row9_col0\" class=\"data row9 col0\" >100</td>\n",
       "      <td id=\"T_3ccf0_row9_col1\" class=\"data row9 col1\" >41.460000</td>\n",
       "      <td id=\"T_3ccf0_row9_col2\" class=\"data row9 col2\" >58.540000</td>\n",
       "    </tr>\n",
       "  </tbody>\n",
       "</table>\n"
      ],
      "text/plain": [
       "<pandas.io.formats.style.Styler at 0x17d7184d100>"
      ]
     },
     "execution_count": 104,
     "metadata": {},
     "output_type": "execute_result"
    }
   ],
   "source": [
    "integ_list = []\n",
    "cols = len(df.columns)\n",
    "for ten in range(10, 110, 10):\n",
    "    lim = len(integ_df.loc[integ_df['integrity rate'] >= ten])\n",
    "    lim_rate = perc(cols, lim)\n",
    "    integ_list.append((ten, lim_rate, 100-lim_rate))\n",
    "\n",
    "integ_more_df = pd.DataFrame(integ_list, columns=['integrity target (rate >=)', 'columns concerned (rate)', 'columns not concerned (rate)'])\n",
    "integ_more_df.style.set_caption('Analysis by integrity rate bands')"
   ]
  },
  {
   "cell_type": "markdown",
   "metadata": {},
   "source": [
    "These results tell us that :\n",
    "- The vast majority of columns have a good integrity rate, this seems to be a good basis for visualizing future statistics :\n",
    "  - just over 41% of the columns have full integrity \n",
    "  - more than 60% have an integrity rate of 80% or higher.\n",
    "- There are still more than 6% of the columns that have an integrity rate less than or equal to 10%."
   ]
  },
  {
   "cell_type": "code",
   "execution_count": 105,
   "metadata": {},
   "outputs": [
    {
     "data": {
      "text/html": [
       "<div>\n",
       "<style scoped>\n",
       "    .dataframe tbody tr th:only-of-type {\n",
       "        vertical-align: middle;\n",
       "    }\n",
       "\n",
       "    .dataframe tbody tr th {\n",
       "        vertical-align: top;\n",
       "    }\n",
       "\n",
       "    .dataframe thead th {\n",
       "        text-align: right;\n",
       "    }\n",
       "</style>\n",
       "<table border=\"1\" class=\"dataframe\">\n",
       "  <thead>\n",
       "    <tr style=\"text-align: right;\">\n",
       "      <th></th>\n",
       "      <th>index</th>\n",
       "      <th>column name</th>\n",
       "      <th>integrity val</th>\n",
       "      <th>integrity rate</th>\n",
       "    </tr>\n",
       "  </thead>\n",
       "  <tbody>\n",
       "    <tr>\n",
       "      <th>0</th>\n",
       "      <td>67</td>\n",
       "      <td>pl_trueobliq</td>\n",
       "      <td>9</td>\n",
       "      <td>0.17</td>\n",
       "    </tr>\n",
       "    <tr>\n",
       "      <th>1</th>\n",
       "      <td>62</td>\n",
       "      <td>pl_occdep</td>\n",
       "      <td>18</td>\n",
       "      <td>0.35</td>\n",
       "    </tr>\n",
       "    <tr>\n",
       "      <th>2</th>\n",
       "      <td>111</td>\n",
       "      <td>sy_icmag</td>\n",
       "      <td>19</td>\n",
       "      <td>0.37</td>\n",
       "    </tr>\n",
       "    <tr>\n",
       "      <th>3</th>\n",
       "      <td>66</td>\n",
       "      <td>pl_projobliq</td>\n",
       "      <td>42</td>\n",
       "      <td>0.81</td>\n",
       "    </tr>\n",
       "    <tr>\n",
       "      <th>4</th>\n",
       "      <td>44</td>\n",
       "      <td>pl_cmasse</td>\n",
       "      <td>43</td>\n",
       "      <td>0.83</td>\n",
       "    </tr>\n",
       "    <tr>\n",
       "      <th>5</th>\n",
       "      <td>45</td>\n",
       "      <td>pl_cmassj</td>\n",
       "      <td>43</td>\n",
       "      <td>0.83</td>\n",
       "    </tr>\n",
       "  </tbody>\n",
       "</table>\n",
       "</div>"
      ],
      "text/plain": [
       "   index   column name  integrity val  integrity rate\n",
       "0     67  pl_trueobliq              9            0.17\n",
       "1     62     pl_occdep             18            0.35\n",
       "2    111      sy_icmag             19            0.37\n",
       "3     66  pl_projobliq             42            0.81\n",
       "4     44     pl_cmasse             43            0.83\n",
       "5     45     pl_cmassj             43            0.83"
      ]
     },
     "execution_count": 105,
     "metadata": {},
     "output_type": "execute_result"
    }
   ],
   "source": [
    "# Integrity rate below 1%\n",
    "low_col = integ_df.loc[integ_df['integrity rate'] <= 1].sort_values(by='integrity rate').reset_index()\n",
    "low_col"
   ]
  },
  {
   "cell_type": "markdown",
   "metadata": {},
   "source": [
    "There are a total of 6 columns in this dataset that have an integrity rate below 1%"
   ]
  },
  {
   "cell_type": "code",
   "execution_count": 106,
   "metadata": {},
   "outputs": [
    {
     "data": {
      "text/plain": [
       "(5187, 123)"
      ]
     },
     "execution_count": 106,
     "metadata": {},
     "output_type": "execute_result"
    }
   ],
   "source": [
    "df.shape"
   ]
  },
  {
   "cell_type": "code",
   "execution_count": 107,
   "metadata": {},
   "outputs": [],
   "source": [
    "df = df.drop(low_col['column name'], axis=1)"
   ]
  },
  {
   "cell_type": "code",
   "execution_count": 108,
   "metadata": {},
   "outputs": [
    {
     "data": {
      "text/plain": [
       "(5187, 117)"
      ]
     },
     "execution_count": 108,
     "metadata": {},
     "output_type": "execute_result"
    }
   ],
   "source": [
    "df.shape"
   ]
  },
  {
   "cell_type": "markdown",
   "metadata": {},
   "source": [
    "### Mass"
   ]
  },
  {
   "cell_type": "markdown",
   "metadata": {},
   "source": [
    "Let's see if there are other mass-related data worth cleaning up (other than `pl_cmass` and `pl_cmassj`).\n",
    "\n",
    "There are several methods to estimate the mass of an exoplanet, and each of these techniques has its own column :\n",
    "\n",
    "- `pl_msinie` / `pl_msinij` are planet masses **determined by radial velocity variations of the host star** of the system.\n",
    " \n",
    "- `pl_mass` / `pl_massj` represent masses **determined by techniques targeting the planet** itself (amount and density of matter etc). \n",
    "\n",
    "- `pl_bmass` and `pl_bmassj` do not refer to a new measurement technique but simply **retrieve the best mass among those available** (i.e. `pl_mass` or `pl_msini`)\n",
    "\n",
    "*Reminder : the columns `pl_cmassj` and `pl_cmasse` have been removed above for their low integrity rate*"
   ]
  },
  {
   "cell_type": "markdown",
   "metadata": {},
   "source": [
    "#### Integrity of mass-related columns"
   ]
  },
  {
   "cell_type": "markdown",
   "metadata": {},
   "source": [
    "We can start by determining the integrity level of each of these columns."
   ]
  },
  {
   "cell_type": "code",
   "execution_count": 109,
   "metadata": {},
   "outputs": [
    {
     "data": {
      "text/html": [
       "<style type=\"text/css\">\n",
       "</style>\n",
       "<table id=\"T_ae07f\">\n",
       "  <caption>Integrity of mass-related columns</caption>\n",
       "  <thead>\n",
       "    <tr>\n",
       "      <th class=\"blank level0\" >&nbsp;</th>\n",
       "      <th id=\"T_ae07f_level0_col0\" class=\"col_heading level0 col0\" >column name</th>\n",
       "      <th id=\"T_ae07f_level0_col1\" class=\"col_heading level0 col1\" >integrity val</th>\n",
       "      <th id=\"T_ae07f_level0_col2\" class=\"col_heading level0 col2\" >integrity rate</th>\n",
       "    </tr>\n",
       "  </thead>\n",
       "  <tbody>\n",
       "    <tr>\n",
       "      <th id=\"T_ae07f_level0_row0\" class=\"row_heading level0 row0\" >0</th>\n",
       "      <td id=\"T_ae07f_row0_col0\" class=\"data row0 col0\" >pl_masse</td>\n",
       "      <td id=\"T_ae07f_row0_col1\" class=\"data row0 col1\" >1362</td>\n",
       "      <td id=\"T_ae07f_row0_col2\" class=\"data row0 col2\" >26.260000</td>\n",
       "    </tr>\n",
       "    <tr>\n",
       "      <th id=\"T_ae07f_level0_row1\" class=\"row_heading level0 row1\" >1</th>\n",
       "      <td id=\"T_ae07f_row1_col0\" class=\"data row1 col0\" >pl_massj</td>\n",
       "      <td id=\"T_ae07f_row1_col1\" class=\"data row1 col1\" >1362</td>\n",
       "      <td id=\"T_ae07f_row1_col2\" class=\"data row1 col2\" >26.260000</td>\n",
       "    </tr>\n",
       "    <tr>\n",
       "      <th id=\"T_ae07f_level0_row2\" class=\"row_heading level0 row2\" >2</th>\n",
       "      <td id=\"T_ae07f_row2_col0\" class=\"data row2 col0\" >pl_msinie</td>\n",
       "      <td id=\"T_ae07f_row2_col1\" class=\"data row2 col1\" >927</td>\n",
       "      <td id=\"T_ae07f_row2_col2\" class=\"data row2 col2\" >17.870000</td>\n",
       "    </tr>\n",
       "    <tr>\n",
       "      <th id=\"T_ae07f_level0_row3\" class=\"row_heading level0 row3\" >3</th>\n",
       "      <td id=\"T_ae07f_row3_col0\" class=\"data row3 col0\" >pl_msinij</td>\n",
       "      <td id=\"T_ae07f_row3_col1\" class=\"data row3 col1\" >927</td>\n",
       "      <td id=\"T_ae07f_row3_col2\" class=\"data row3 col2\" >17.870000</td>\n",
       "    </tr>\n",
       "    <tr>\n",
       "      <th id=\"T_ae07f_level0_row4\" class=\"row_heading level0 row4\" >4</th>\n",
       "      <td id=\"T_ae07f_row4_col0\" class=\"data row4 col0\" >pl_bmasse</td>\n",
       "      <td id=\"T_ae07f_row4_col1\" class=\"data row4 col1\" >2239</td>\n",
       "      <td id=\"T_ae07f_row4_col2\" class=\"data row4 col2\" >43.170000</td>\n",
       "    </tr>\n",
       "    <tr>\n",
       "      <th id=\"T_ae07f_level0_row5\" class=\"row_heading level0 row5\" >5</th>\n",
       "      <td id=\"T_ae07f_row5_col0\" class=\"data row5 col0\" >pl_bmassj</td>\n",
       "      <td id=\"T_ae07f_row5_col1\" class=\"data row5 col1\" >2239</td>\n",
       "      <td id=\"T_ae07f_row5_col2\" class=\"data row5 col2\" >43.170000</td>\n",
       "    </tr>\n",
       "  </tbody>\n",
       "</table>\n"
      ],
      "text/plain": [
       "<pandas.io.formats.style.Styler at 0x17d6b2d1ee0>"
      ]
     },
     "execution_count": 109,
     "metadata": {},
     "output_type": "execute_result"
    }
   ],
   "source": [
    "from utils.column_names import mass_cols\n",
    "\n",
    "integ_list = []\n",
    "\n",
    "for name in mass_cols.keys():\n",
    "    integrity = nan(name, df=df)\n",
    "    integ_list.append((name, integrity[0], integrity[1]))\n",
    "\n",
    "integ_df = pd.DataFrame(integ_list, columns=['column name', 'integrity val', 'integrity rate'])\n",
    "integ_df.style.set_caption('Integrity of mass-related columns')"
   ]
  },
  {
   "cell_type": "markdown",
   "metadata": {},
   "source": [
    "This table tells us several things:\n",
    "\n",
    "- Planetary masses obtained by direct analysis of the planet (`pl_mass` / `pl_massj`) have the **highest integrity rates with over 26%**\n",
    "\n",
    "- The planetary masses obtained by analysis of the radial velocity variations of the host star present **only an integrity rate of a little more than 17%**.\n",
    " \n",
    "- The last two columns supposed to display the best of the two values, present an integrity rate of more than 43%, which means that about **57% of the exoplanets identified have no known mass**\n",
    "\n",
    "- The integrity value of `pl_bmass` is 2239 while the sum of the values of `pl_mass` (1362) and `pl_msinie` (927) gives 2289, which suggests that **50 exoplanets have masses informed according to the two calculation methods** (`pl_mass` AND `pl_msini`)."
   ]
  },
  {
   "cell_type": "markdown",
   "metadata": {},
   "source": [
    "#### Exoplanets without known mass"
   ]
  },
  {
   "cell_type": "code",
   "execution_count": 110,
   "metadata": {},
   "outputs": [
    {
     "data": {
      "text/html": [
       "<div>\n",
       "<style scoped>\n",
       "    .dataframe tbody tr th:only-of-type {\n",
       "        vertical-align: middle;\n",
       "    }\n",
       "\n",
       "    .dataframe tbody tr th {\n",
       "        vertical-align: top;\n",
       "    }\n",
       "\n",
       "    .dataframe thead th {\n",
       "        text-align: right;\n",
       "    }\n",
       "</style>\n",
       "<table border=\"1\" class=\"dataframe\">\n",
       "  <thead>\n",
       "    <tr style=\"text-align: right;\">\n",
       "      <th></th>\n",
       "      <th>pl_name</th>\n",
       "      <th>pl_masse</th>\n",
       "      <th>pl_massj</th>\n",
       "      <th>pl_msinie</th>\n",
       "      <th>pl_msinij</th>\n",
       "      <th>pl_bmasse</th>\n",
       "      <th>pl_bmassj</th>\n",
       "    </tr>\n",
       "  </thead>\n",
       "  <tbody>\n",
       "    <tr>\n",
       "      <th>127</th>\n",
       "      <td>DS Tuc A b</td>\n",
       "      <td>NaN</td>\n",
       "      <td>NaN</td>\n",
       "      <td>NaN</td>\n",
       "      <td>NaN</td>\n",
       "      <td>NaN</td>\n",
       "      <td>NaN</td>\n",
       "    </tr>\n",
       "    <tr>\n",
       "      <th>128</th>\n",
       "      <td>EPIC 201170410.02</td>\n",
       "      <td>NaN</td>\n",
       "      <td>NaN</td>\n",
       "      <td>NaN</td>\n",
       "      <td>NaN</td>\n",
       "      <td>NaN</td>\n",
       "      <td>NaN</td>\n",
       "    </tr>\n",
       "    <tr>\n",
       "      <th>129</th>\n",
       "      <td>EPIC 201238110 b</td>\n",
       "      <td>NaN</td>\n",
       "      <td>NaN</td>\n",
       "      <td>NaN</td>\n",
       "      <td>NaN</td>\n",
       "      <td>NaN</td>\n",
       "      <td>NaN</td>\n",
       "    </tr>\n",
       "    <tr>\n",
       "      <th>130</th>\n",
       "      <td>EPIC 201427007 b</td>\n",
       "      <td>NaN</td>\n",
       "      <td>NaN</td>\n",
       "      <td>NaN</td>\n",
       "      <td>NaN</td>\n",
       "      <td>NaN</td>\n",
       "      <td>NaN</td>\n",
       "    </tr>\n",
       "    <tr>\n",
       "      <th>131</th>\n",
       "      <td>EPIC 201497682 b</td>\n",
       "      <td>NaN</td>\n",
       "      <td>NaN</td>\n",
       "      <td>NaN</td>\n",
       "      <td>NaN</td>\n",
       "      <td>NaN</td>\n",
       "      <td>NaN</td>\n",
       "    </tr>\n",
       "    <tr>\n",
       "      <th>...</th>\n",
       "      <td>...</td>\n",
       "      <td>...</td>\n",
       "      <td>...</td>\n",
       "      <td>...</td>\n",
       "      <td>...</td>\n",
       "      <td>...</td>\n",
       "      <td>...</td>\n",
       "    </tr>\n",
       "    <tr>\n",
       "      <th>4938</th>\n",
       "      <td>V1298 Tau c</td>\n",
       "      <td>NaN</td>\n",
       "      <td>NaN</td>\n",
       "      <td>NaN</td>\n",
       "      <td>NaN</td>\n",
       "      <td>NaN</td>\n",
       "      <td>NaN</td>\n",
       "    </tr>\n",
       "    <tr>\n",
       "      <th>4939</th>\n",
       "      <td>V1298 Tau d</td>\n",
       "      <td>NaN</td>\n",
       "      <td>NaN</td>\n",
       "      <td>NaN</td>\n",
       "      <td>NaN</td>\n",
       "      <td>NaN</td>\n",
       "      <td>NaN</td>\n",
       "    </tr>\n",
       "    <tr>\n",
       "      <th>4940</th>\n",
       "      <td>V1298 Tau e</td>\n",
       "      <td>NaN</td>\n",
       "      <td>NaN</td>\n",
       "      <td>NaN</td>\n",
       "      <td>NaN</td>\n",
       "      <td>NaN</td>\n",
       "      <td>NaN</td>\n",
       "    </tr>\n",
       "    <tr>\n",
       "      <th>4972</th>\n",
       "      <td>WASP-132 b</td>\n",
       "      <td>NaN</td>\n",
       "      <td>NaN</td>\n",
       "      <td>NaN</td>\n",
       "      <td>NaN</td>\n",
       "      <td>NaN</td>\n",
       "      <td>NaN</td>\n",
       "    </tr>\n",
       "    <tr>\n",
       "      <th>4993</th>\n",
       "      <td>WASP-157 b</td>\n",
       "      <td>NaN</td>\n",
       "      <td>NaN</td>\n",
       "      <td>NaN</td>\n",
       "      <td>NaN</td>\n",
       "      <td>NaN</td>\n",
       "      <td>NaN</td>\n",
       "    </tr>\n",
       "  </tbody>\n",
       "</table>\n",
       "<p>2948 rows × 7 columns</p>\n",
       "</div>"
      ],
      "text/plain": [
       "                pl_name  pl_masse  pl_massj  pl_msinie  pl_msinij  pl_bmasse  \\\n",
       "127          DS Tuc A b       NaN       NaN        NaN        NaN        NaN   \n",
       "128   EPIC 201170410.02       NaN       NaN        NaN        NaN        NaN   \n",
       "129    EPIC 201238110 b       NaN       NaN        NaN        NaN        NaN   \n",
       "130    EPIC 201427007 b       NaN       NaN        NaN        NaN        NaN   \n",
       "131    EPIC 201497682 b       NaN       NaN        NaN        NaN        NaN   \n",
       "...                 ...       ...       ...        ...        ...        ...   \n",
       "4938        V1298 Tau c       NaN       NaN        NaN        NaN        NaN   \n",
       "4939        V1298 Tau d       NaN       NaN        NaN        NaN        NaN   \n",
       "4940        V1298 Tau e       NaN       NaN        NaN        NaN        NaN   \n",
       "4972         WASP-132 b       NaN       NaN        NaN        NaN        NaN   \n",
       "4993         WASP-157 b       NaN       NaN        NaN        NaN        NaN   \n",
       "\n",
       "      pl_bmassj  \n",
       "127         NaN  \n",
       "128         NaN  \n",
       "129         NaN  \n",
       "130         NaN  \n",
       "131         NaN  \n",
       "...         ...  \n",
       "4938        NaN  \n",
       "4939        NaN  \n",
       "4940        NaN  \n",
       "4972        NaN  \n",
       "4993        NaN  \n",
       "\n",
       "[2948 rows x 7 columns]"
      ]
     },
     "execution_count": 110,
     "metadata": {},
     "output_type": "execute_result"
    }
   ],
   "source": [
    "mass_filter = df[ \n",
    "    (df['pl_masse'].isna()) & \n",
    "    (df['pl_massj'].isna()) &\n",
    "    (df['pl_msinie'].isna()) &\n",
    "    (df['pl_msinij'].isna()) &\n",
    "    (df['pl_bmasse'].isna()) &\n",
    "    (df['pl_bmassj'].isna()) \n",
    "    ]\n",
    "\n",
    "mass_filter[[\n",
    "    'pl_name',\n",
    "    'pl_masse', \n",
    "    'pl_massj', \n",
    "    'pl_msinie', \n",
    "    'pl_msinij',\n",
    "    'pl_bmasse',\n",
    "    'pl_bmassj'\n",
    "    ]]"
   ]
  },
  {
   "cell_type": "code",
   "execution_count": 111,
   "metadata": {},
   "outputs": [
    {
     "name": "stdout",
     "output_type": "stream",
     "text": [
      "Total exoplanets : 5187\n",
      "Exoplanets with known mass : 2239 (43.17%)\n",
      "Exoplanets with unknown mass : 2948 (56.83%)\n"
     ]
    }
   ],
   "source": [
    "rate = perc(df.shape[0], mass_filter.shape[0])\n",
    "known = df.shape[0] - mass_filter.shape[0]\n",
    "unknown = mass_filter.shape[0]\n",
    "\n",
    "print(f'Total exoplanets : {df.shape[0]}')\n",
    "print(f'Exoplanets with known mass : {known} ({perc(df.shape[0], known)}%)')\n",
    "print(f'Exoplanets with unknown mass : {unknown} ({perc(df.shape[0], unknown)}%)')"
   ]
  },
  {
   "cell_type": "markdown",
   "metadata": {},
   "source": [
    "These results confirm the observations made from the previous table : **more than half of the exoplanets counted have no known mass** (about 57%).\n",
    "\n",
    "We can deduce from these proportions that the calculations leading to the estimation of an exoplanetary mass do not seem to be easy and that they do not represent the norm. **These lack of data seem to be an integral part of the field of exoplanet analysis** and therefore represent a form of information that can be exploited. This is the reason why **none of the exoplanets with unknown mass will be deleted**."
   ]
  },
  {
   "cell_type": "markdown",
   "metadata": {},
   "source": [
    "### Dealing with missing data : absence of information is information"
   ]
  },
  {
   "cell_type": "markdown",
   "metadata": {},
   "source": [
    "This amount of missing data related to the masses of exoplanets calls into question. We can assume that what is valid for characteristics related to mass can also be extrapolated to other characteristics: **it seems difficult for an exoplanet to see all its characteristics filled in**, as evidenced by the average integrity rate of the columns of this dataset estimated above at 70%, **each line of this dataset necessarily presents fragmented data with which it will be necessary to deal**, because the information that can be collected from an exoplanet can, in certain cases, prove to be rare.\n",
    "\n",
    "Moreover, given the level of data fragmentation, inherent in the field of exoplanets, the idea of deleting all the lines with missing data would lead us irremediably to a zero-dimensional dataset..."
   ]
  },
  {
   "cell_type": "markdown",
   "metadata": {},
   "source": [
    "### How much has the dataframe shrunk?"
   ]
  },
  {
   "cell_type": "markdown",
   "metadata": {},
   "source": [
    "Let's see how much the size of the dataframe has been reduced"
   ]
  },
  {
   "cell_type": "code",
   "execution_count": 112,
   "metadata": {},
   "outputs": [
    {
     "data": {
      "text/html": [
       "<style type=\"text/css\">\n",
       "</style>\n",
       "<table id=\"T_79b06\">\n",
       "  <caption>Variations before/after data cleaning</caption>\n",
       "  <thead>\n",
       "    <tr>\n",
       "      <th class=\"blank level0\" >&nbsp;</th>\n",
       "      <th id=\"T_79b06_level0_col0\" class=\"col_heading level0 col0\" >Rows</th>\n",
       "      <th id=\"T_79b06_level0_col1\" class=\"col_heading level0 col1\" >Columns</th>\n",
       "      <th id=\"T_79b06_level0_col2\" class=\"col_heading level0 col2\" >Memory (MB)</th>\n",
       "    </tr>\n",
       "  </thead>\n",
       "  <tbody>\n",
       "    <tr>\n",
       "      <th id=\"T_79b06_level0_row0\" class=\"row_heading level0 row0\" >Before</th>\n",
       "      <td id=\"T_79b06_row0_col0\" class=\"data row0 col0\" >33376</td>\n",
       "      <td id=\"T_79b06_row0_col1\" class=\"data row0 col1\" >121</td>\n",
       "      <td id=\"T_79b06_row0_col2\" class=\"data row0 col2\" >99.320000</td>\n",
       "    </tr>\n",
       "    <tr>\n",
       "      <th id=\"T_79b06_level0_row1\" class=\"row_heading level0 row1\" >After</th>\n",
       "      <td id=\"T_79b06_row1_col0\" class=\"data row1 col0\" >5187</td>\n",
       "      <td id=\"T_79b06_row1_col1\" class=\"data row1 col1\" >117</td>\n",
       "      <td id=\"T_79b06_row1_col2\" class=\"data row1 col2\" >15.030000</td>\n",
       "    </tr>\n",
       "    <tr>\n",
       "      <th id=\"T_79b06_level0_row2\" class=\"row_heading level0 row2\" >Variation</th>\n",
       "      <td id=\"T_79b06_row2_col0\" class=\"data row2 col0\" >-28189 (-84.46%)</td>\n",
       "      <td id=\"T_79b06_row2_col1\" class=\"data row2 col1\" >-4 (-3.31%)</td>\n",
       "      <td id=\"T_79b06_row2_col2\" class=\"data row2 col2\" >-84.29 (-84.87%)</td>\n",
       "    </tr>\n",
       "  </tbody>\n",
       "</table>\n"
      ],
      "text/plain": [
       "<pandas.io.formats.style.Styler at 0x17d6b031dc0>"
      ]
     },
     "execution_count": 112,
     "metadata": {},
     "output_type": "execute_result"
    }
   ],
   "source": [
    "# Rows\n",
    "rows_var_val = df_shape_before[0] - df.shape[0]\n",
    "rows_var_rate = perc_var(df_shape_before[0], df.shape[0])\n",
    "\n",
    "# Columns\n",
    "cols_var_val = df_shape_before[1] - df.shape[1]\n",
    "cols_var_rate = perc_var(df_shape_before[1], df.shape[1])\n",
    "\n",
    "# Memory\n",
    "df_mem_now = mem(df, unit='MB')\n",
    "mem_var_val = df_mem_before - df_mem_now\n",
    "mem_var_rate = perc_var(df_mem_before, df_mem_now)\n",
    "\n",
    "# Data structuration\n",
    "before = (\n",
    "    df_shape_before[0], \n",
    "    df_shape_before[1], \n",
    "    round(df_mem_before, 2)\n",
    "    )\n",
    "\n",
    "after = (\n",
    "    df.shape[0], \n",
    "    df.shape[1], \n",
    "    round(df_mem_now, 2)\n",
    "    )\n",
    "\n",
    "varia = (\n",
    "    f\"-{rows_var_val} ({round(rows_var_rate, 2)}%)\", \n",
    "    f\"-{cols_var_val} ({round(cols_var_rate, 2)}%)\", \n",
    "    f\"-{round(mem_var_val, 2)} ({round(mem_var_rate, 2)}%)\"\n",
    "    )\n",
    "\n",
    "change_list = [before, after, varia]\n",
    "\n",
    "# Dataframe creation\n",
    "variation_df = pd.DataFrame(\n",
    "    change_list, \n",
    "    columns=['Rows', 'Columns', 'Memory (MB)'],\n",
    "    index=['Before', 'After', 'Variation']\n",
    "    )\n",
    "\n",
    "variation_df.style.set_caption(\"Variations before/after data cleaning\")"
   ]
  },
  {
   "cell_type": "markdown",
   "metadata": {},
   "source": [
    "At the end of the data cleaning process, the dataframe has lost 28189 rows or about 84% (removal of duplicates) and 4 columns (those with a very low integrity rate). These deletions have **reduced the memory space of the dataframe by more than 84%** from 100MB to 15MB"
   ]
  },
  {
   "cell_type": "markdown",
   "metadata": {},
   "source": [
    "## Analysis and Visualizations"
   ]
  },
  {
   "cell_type": "code",
   "execution_count": 113,
   "metadata": {},
   "outputs": [],
   "source": [
    "import plotly.express as px\n",
    "import plotly.graph_objects as go\n",
    "import plotly.io as pio\n",
    "from IPython.display import Image # Convert bytes to image"
   ]
  },
  {
   "cell_type": "markdown",
   "metadata": {},
   "source": [
    "### Discoveries over the years"
   ]
  },
  {
   "cell_type": "markdown",
   "metadata": {},
   "source": [
    "In order to get an idea of the dynamism in the field of exoplanet research, let's make a graphic representation of the number of exoplanets discovered per year"
   ]
  },
  {
   "cell_type": "code",
   "execution_count": 114,
   "metadata": {},
   "outputs": [
    {
     "data": {
      "image/png": "[encoded data removed]",
      "text/plain": [
       "<IPython.core.display.Image object>"
      ]
     },
     "execution_count": 114,
     "metadata": {},
     "output_type": "execute_result"
    }
   ],
   "source": [
    "disc_year = df['disc_year'].value_counts()\n",
    "\n",
    "plot_counts(\n",
    "    disc_year, \n",
    "    x_label='Year', \n",
    "    y_label='Exoplanets discoveries',\n",
    "    title='Number of exoplanets discovered per year (1992 to 2022)'\n",
    "    )"
   ]
  },
  {
   "cell_type": "markdown",
   "metadata": {},
   "source": [
    "The number of exoplanets discovered each year follows an upward trend, but the years **2014 and 2016 seem to have been particularly prolific** for the discovery of exoplanets."
   ]
  },
  {
   "cell_type": "markdown",
   "metadata": {},
   "source": [
    "### Telescopes and discovery methods"
   ]
  },
  {
   "cell_type": "markdown",
   "metadata": {},
   "source": [
    "All these discoveries have been made with telescopes of different sizes, based on the ground or in space and using different detection methods."
   ]
  },
  {
   "cell_type": "markdown",
   "metadata": {},
   "source": [
    "#### Telescopes"
   ]
  },
  {
   "cell_type": "markdown",
   "metadata": {},
   "source": [
    "Firstable it would be interesting to see if a telescope stands out from the crowd by the number of its discoveries, let's take a look at the years 2014 and 2016"
   ]
  },
  {
   "cell_type": "code",
   "execution_count": 115,
   "metadata": {},
   "outputs": [
    {
     "data": {
      "image/png": "[encoded data removed]",
      "text/plain": [
       "<IPython.core.display.Image object>"
      ]
     },
     "execution_count": 115,
     "metadata": {},
     "output_type": "execute_result"
    }
   ],
   "source": [
    "# 2016 telescopes analysis\n",
    "y_2016 = df.loc[df['disc_year'] == 2016]\n",
    "y_2016 = y_2016['disc_telescope'].value_counts()\n",
    "\n",
    "plot_counts(\n",
    "    y_2016,\n",
    "    to=5, \n",
    "    x_label='Telescope', \n",
    "    y_label='Exoplanets discoveries',\n",
    "    title='Number of exoplanets discovered per telescope in 2016 (top 5)'\n",
    "    )"
   ]
  },
  {
   "cell_type": "markdown",
   "metadata": {},
   "source": [
    "The graph clearly shows us that during 2016, **the Kepler telescope was behind almost all exoplanet discoveries**. Let's quickly see if this is also the case for the year 2014"
   ]
  },
  {
   "cell_type": "code",
   "execution_count": 116,
   "metadata": {},
   "outputs": [
    {
     "data": {
      "image/png": "[encoded data removed]",
      "text/plain": [
       "<IPython.core.display.Image object>"
      ]
     },
     "execution_count": 116,
     "metadata": {},
     "output_type": "execute_result"
    }
   ],
   "source": [
    "# 2014 telescopes analysis\n",
    "y_2014 = df.loc[df['disc_year'] == 2014]\n",
    "y_2014 = y_2014['disc_telescope'].value_counts()\n",
    "\n",
    "plot_counts(\n",
    "    y_2014,\n",
    "    to=5, \n",
    "    x_label='Telescope', \n",
    "    y_label='Exoplanets discoveries',\n",
    "    title='Number of exoplanets discovered per telescope in 2014 (top 5)'\n",
    "    )"
   ]
  },
  {
   "cell_type": "markdown",
   "metadata": {},
   "source": [
    "Also during 2014, the Kepler telescope stood out atop its 786 exoplanets discovered, only 24 for the second place finisher.\n",
    "\n",
    "Based only on the years 2014 and 2016, **Kepler seems to represent a major asset to the detection of exoplanets**, to confirm this, it would be interesting to measure its overall contribution."
   ]
  },
  {
   "cell_type": "code",
   "execution_count": 117,
   "metadata": {},
   "outputs": [
    {
     "data": {
      "image/png": "[encoded data removed]",
      "text/plain": [
       "<IPython.core.display.Image object>"
      ]
     },
     "execution_count": 117,
     "metadata": {},
     "output_type": "execute_result"
    }
   ],
   "source": [
    "telesc = df['disc_telescope'].value_counts()\n",
    "\n",
    "plot_counts(\n",
    "    telesc,\n",
    "    to=5, \n",
    "    x_label='Telescope', \n",
    "    y_label='Exoplanets discoveries',\n",
    "    title='Number of exoplanets discovered per telescope from 1992 to 2022 (top 5)'\n",
    "    )"
   ]
  },
  {
   "cell_type": "markdown",
   "metadata": {},
   "source": [
    "Here again, the result is clear, **the Kepler space telescope is a major player in the search for exoplanets**, it has discovered 3247 of the 5187 listed in this dataset, i.e a little more than 62% (almost 2/3 !)"
   ]
  },
  {
   "cell_type": "markdown",
   "metadata": {},
   "source": [
    "##### Kepler"
   ]
  },
  {
   "cell_type": "markdown",
   "metadata": {},
   "source": [
    "**A brief history :**\n",
    "\n",
    "The Kepler space telescope, launched in 2009, was designed by NASA with the specific goal of discovering exoplanets by transit method. Its tremendous contribution to this field of research is all the more incredible given its chaotic lifespan :\n",
    "\n",
    "- **2009** : **detections have been made more difficult** due to the noise generated by the telescope electronics, which turned out to be more important than expected, and by the luminosities of stars which are much more variable than anticipated, complicating the interpretation of the light curves. \n",
    "- **2010** : One of the detection modules fails without hope of being repaired, resulting in a **5% decrease in the field of view**\n",
    "- **2012** : One of the 4 reaction wheels used to orient the telescope does not work anymore, the telescope which needs at least 3 wheels, is in **critical situation**\n",
    "- **2013** : One of the 3 remaining wheels breaks down, the telescope is now obliged to use its ergol to orient itself which **does not allow to reach the same precision of pointing**\n",
    "- **2014** : The telescope cannot maintain permanently its orientation. It uses the photonic thrust to compensate the two missing wheels, but this artifice imposes to frequently modify the observed region of space so that the radiations do not penetrate the telescope aperture. Because of these regular changes of axis, the **telescope can now only identify planets with a very short orbital period**.\n",
    "- **2018** : After having used all the ergol to maintain its orientations, the reserve was exhausted. **The telescope can no longer ensure its mission**.\n",
    "\n",
    "It is despite this particularly turbulent life that Kepler was able to discover more than half of the exoplanets listed"
   ]
  },
  {
   "cell_type": "code",
   "execution_count": 118,
   "metadata": {},
   "outputs": [
    {
     "data": {
      "image/png": "[encoded data removed]",
      "text/plain": [
       "<IPython.core.display.Image object>"
      ]
     },
     "execution_count": 118,
     "metadata": {},
     "output_type": "execute_result"
    }
   ],
   "source": [
    "# Kepler activity per year\n",
    "kepler = df.loc[df['disc_telescope'] == '0.95 m Kepler Telescope']\n",
    "kepler = kepler['disc_year'].value_counts()\n",
    "\n",
    "plot_counts(kepler, \n",
    "x_label='Year', \n",
    "y_label='Exoplanet discoveries',\n",
    "title='Kepler activity over years'\n",
    ")"
   ]
  },
  {
   "cell_type": "code",
   "execution_count": 144,
   "metadata": {},
   "outputs": [
    {
     "data": {
      "text/plain": [
       "231.92857142857142"
      ]
     },
     "execution_count": 144,
     "metadata": {},
     "output_type": "execute_result"
    }
   ],
   "source": [
    "# Average discoveries per year\n",
    "kepler.mean()"
   ]
  },
  {
   "cell_type": "markdown",
   "metadata": {},
   "source": [
    "These repeated technical problems could partly explain its very heterogeneous level of activity over the years (figure above).\n",
    "\n",
    ">Note : **discovery made in a given year does not mean that the telescope photograph also dates from that same year**. Indeed, telescopes can send a large mass of information that can take time to analyze, sometimes several years. This is the reason why Kepler continues to \"discover\" exoplanets after 2018, the year of its end of service.\n",
    "\n",
    "Despite its end of service in 2018, another space telescope will take over the same year: TESS"
   ]
  },
  {
   "cell_type": "markdown",
   "metadata": {},
   "source": [
    "##### TESS"
   ]
  },
  {
   "cell_type": "markdown",
   "metadata": {},
   "source": [
    "TESS (Transiting Exoplanet Survey Satellite) is a new space telescope launched in 2018 (Kepler's end of service year) by NASA and also designed to detect exoplanets by transit method.\n",
    "\n",
    "Its smaller size than Kepler does only allow it to detect the closest and brightest planets (up to 100x brighter than those detected by Kepler), but these specializations seem to bear fruit because as shown in the graph above (*Number of exoplanets discovered per telescope from 1992 to 2022*), it is already **the 3rd largest contributor of exoplanet discoverer**."
   ]
  },
  {
   "cell_type": "code",
   "execution_count": 119,
   "metadata": {},
   "outputs": [
    {
     "data": {
      "image/png": "[encoded data removed]",
      "text/plain": [
       "<IPython.core.display.Image object>"
      ]
     },
     "execution_count": 119,
     "metadata": {},
     "output_type": "execute_result"
    }
   ],
   "source": [
    "tess = df.loc[df['disc_telescope'] == '0.1 m TESS Telescope']\n",
    "tess = tess['disc_year'].value_counts()\n",
    "\n",
    "plot_counts(tess,\n",
    "x_label='Year',\n",
    "y_label='Exoplanets dicoveries',\n",
    "title='TESS activity over years')"
   ]
  },
  {
   "cell_type": "code",
   "execution_count": 147,
   "metadata": {},
   "outputs": [
    {
     "data": {
      "text/plain": [
       "53.2"
      ]
     },
     "execution_count": 147,
     "metadata": {},
     "output_type": "execute_result"
    }
   ],
   "source": [
    "# Average discoveries per year\n",
    "tess.mean()"
   ]
  },
  {
   "cell_type": "code",
   "execution_count": 133,
   "metadata": {},
   "outputs": [
    {
     "name": "stdout",
     "output_type": "stream",
     "text": [
      "First 5 years of activity :\n",
      "TESS discoveries :  266\n",
      "Kepler discoveries :  202\n"
     ]
    }
   ],
   "source": [
    "kepler = df.loc[df['disc_telescope'] == '0.95 m Kepler Telescope']\n",
    "kepler = kepler['disc_year'].value_counts()\n",
    "\n",
    "print('First 5 years of activity :')\n",
    "print('TESS discoveries : ',tess.sort_index().sum())\n",
    "print('Kepler discoveries : ', kepler.sort_index()[0:5].sum())"
   ]
  },
  {
   "cell_type": "markdown",
   "metadata": {},
   "source": [
    "And despite its smaller size and instruments, **TESS discovered 64 more exoplanets than Kepler in the same period**. This telescope seems to be well on its way to fully take over from Kepler"
   ]
  },
  {
   "cell_type": "markdown",
   "metadata": {},
   "source": [
    "##### ESO"
   ]
  },
  {
   "cell_type": "markdown",
   "metadata": {},
   "source": [
    "ESO (European Southern Observatory) is a group of ground-based telescopes located in the southern hemisphere and operated by an intergovernmental European organization founded in 1962. It is currently the **main actor of observational astronomy in Europe**.\n",
    "\n",
    "The group has about twenty observing instruments and telescopes ranging from 2.2 to 8.20 meters in diameter, all based in Chile and **capable of imaging, photometry, spectroscopy and interferometry observations** in almost all wavelengths.\n",
    "\n",
    "The most active telescope in the discovery of exoplanets in this dataset seems to be a telescope with a diameter of 3.6 meters based in La Silla and entered into service in 1976.\n",
    "\n",
    "Let's see how involved it has been in the search for exoplanets over the years."
   ]
  },
  {
   "cell_type": "code",
   "execution_count": 139,
   "metadata": {},
   "outputs": [
    {
     "data": {
      "image/png": "[encoded data removed]",
      "text/plain": [
       "<IPython.core.display.Image object>"
      ]
     },
     "execution_count": 139,
     "metadata": {},
     "output_type": "execute_result"
    }
   ],
   "source": [
    "eso = df.loc[df['disc_telescope'] == '3.6 m ESO Telescope']\n",
    "eso = eso['disc_year'].value_counts()\n",
    "\n",
    "plot_counts(eso, \n",
    "x_label='Year', \n",
    "y_label='Exoplanet discoveries',\n",
    "title='3.6 m ESO Telescope activity over years'\n",
    ")"
   ]
  },
  {
   "cell_type": "code",
   "execution_count": 150,
   "metadata": {},
   "outputs": [
    {
     "data": {
      "text/plain": [
       "10.89"
      ]
     },
     "execution_count": 150,
     "metadata": {},
     "output_type": "execute_result"
    }
   ],
   "source": [
    "round(eso.mean(), 2)"
   ]
  },
  {
   "cell_type": "markdown",
   "metadata": {},
   "source": [
    "The telescope started its observations early, in 2004, 5 years before Kepler was commissioned and although ESO's main mission is not the search for exoplanets, its long contribution over the years has led to the discovery of more than 200 extra-solar planets, making it the 5th most important contributor."
   ]
  },
  {
   "cell_type": "markdown",
   "metadata": {},
   "source": [
    "#### Discovery methods"
   ]
  },
  {
   "cell_type": "code",
   "execution_count": 151,
   "metadata": {},
   "outputs": [],
   "source": [
    "disc_meth = {\n",
    "    'rv_flag':'Radial Velocity',\n",
    "    'pul_flag':'Pulsar Timing Variation',\n",
    "    'ptv_flag':'Pulsation Timing Variation',\n",
    "    'tran_flag':'Transit',\n",
    "    'ast_flag':'Astrometric Variations',\n",
    "    'obm_flag':'Orbital Brightness Modulations',\n",
    "    'micro_flag':'Microlensing',\n",
    "    'etv_flag':'Eclipse Timing Variations',\n",
    "    'ima_flag':'Imaging',\n",
    "    'dkin_flag':'Disk Kinematics'\n",
    "    }"
   ]
  },
  {
   "cell_type": "markdown",
   "metadata": {},
   "source": [
    "There are several methods to detect exoplanets, they can vary depending on the characteristics of the planet and the telescope, but can also in some cases be combined to refine the results. Let's take a brief look at these methods :\n",
    "\n",
    "- **Radial velocity** : the planets slightly attract their sun towards them, if the observer is on the same orbital plane, the star of the system will appear slightly closer and then farther away, which in spectroscopy will result in slight redshifts and blueshift. These **variations of frequencies observed make it possible to estimate the minimum mass of the planets**. The more massive the planet, the more obvious these frequency variations will be and the easier the detection will be.\n",
    "\n",
    "- **Transit** : the observer sees the planet passing in front of its star, which allows to determine its period of rotation, its radius but also to estimate its mass.\n",
    "\n",
    "- **Astrometric variation** : If the method by radial velocity allows to deduce the presence of a planet only if the observer is on the same orbital plane, the method by astrometric variation allows to **observe the slight variation of position of the host star when the observer is on a perpendicular plane** (above or below the star).\n",
    "\n",
    "- **Microlensing** : A massive star projects its light rays in the direction of the target star, these rays are distorted by the target star (which acts as a lens, hence the name of the method) due to the curvature of space-time caused by its mass, if a planet orbits around the target star then the luminous deformations will be locally more intense on the side where it is located. This method has the disadvantage of requiring an almost perfect alignment between the observer and the target star, which happens only very rarely.\n",
    "\n",
    "- **Imaging** : Detection of the planet by **direct imaging**, which requires state-of-the-art equipment with very high resolution. This method represents a major challenge for the research and analysis of exoplanets, several projects are being studied or built for this purpose, including telescopes over 30 meters in diameter."
   ]
  },
  {
   "cell_type": "code",
   "execution_count": 122,
   "metadata": {},
   "outputs": [
    {
     "data": {
      "image/png": "[encoded data removed]",
      "text/plain": [
       "<IPython.core.display.Image object>"
      ]
     },
     "execution_count": 122,
     "metadata": {},
     "output_type": "execute_result"
    }
   ],
   "source": [
    "plot_disc_meth(df, merge_low=50)"
   ]
  },
  {
   "cell_type": "markdown",
   "metadata": {},
   "source": [
    "##### Kepler discovery methods"
   ]
  },
  {
   "cell_type": "code",
   "execution_count": 123,
   "metadata": {},
   "outputs": [
    {
     "data": {
      "image/png": "[encoded data removed]",
      "text/plain": [
       "<IPython.core.display.Image object>"
      ]
     },
     "execution_count": 123,
     "metadata": {},
     "output_type": "execute_result"
    }
   ],
   "source": [
    "kepler = df.loc[df['disc_telescope'] == '0.95 m Kepler Telescope']\n",
    "plot_disc_meth(kepler, duo=['tran_flag', 'rv_flag'])"
   ]
  },
  {
   "cell_type": "markdown",
   "metadata": {},
   "source": [
    "##### TESS discovery methods"
   ]
  },
  {
   "cell_type": "code",
   "execution_count": 124,
   "metadata": {},
   "outputs": [
    {
     "data": {
      "image/png": "[encoded data removed]",
      "text/plain": [
       "<IPython.core.display.Image object>"
      ]
     },
     "execution_count": 124,
     "metadata": {},
     "output_type": "execute_result"
    }
   ],
   "source": [
    "tess_meth = df.loc[df['disc_telescope'] == '0.1 m TESS Telescope']\n",
    "plot_disc_meth(tess_meth)"
   ]
  },
  {
   "cell_type": "code",
   "execution_count": 125,
   "metadata": {},
   "outputs": [
    {
     "data": {
      "image/png": "[encoded data removed]",
      "text/plain": [
       "<IPython.core.display.Image object>"
      ]
     },
     "execution_count": 125,
     "metadata": {},
     "output_type": "execute_result"
    }
   ],
   "source": [
    "#0.1 m TESS Telescope\n",
    "tess_meth = df.loc[df['disc_telescope'] == '0.1 m TESS Telescope']\n",
    "plot_disc_meth(tess_meth, duo=['tran_flag', 'rv_flag'])"
   ]
  },
  {
   "cell_type": "markdown",
   "metadata": {},
   "source": [
    "The interesting information that emerges from these data from the TESS telescope is that its **detections by the radial velocity method are almost systematically coupled to a transit method**, as evidenced by the tiny percentage of observations made solely by the radial velocity method (0.7% ).\n",
    "\n",
    "The proportion of detections made solely by the transit method are on the other hand much more numerous (around 30%).\n",
    "\n",
    "Finally, we note that almost **70% of the detections made by the telescope combine the two methods** (transit + RV) which accentuates the precision and reliability of these discoveries."
   ]
  },
  {
   "cell_type": "markdown",
   "metadata": {},
   "source": [
    "### Mass"
   ]
  },
  {
   "cell_type": "code",
   "execution_count": 126,
   "metadata": {},
   "outputs": [],
   "source": [
    "pass"
   ]
  },
  {
   "cell_type": "markdown",
   "metadata": {},
   "source": [
    "### Distance from us"
   ]
  },
  {
   "cell_type": "code",
   "execution_count": 127,
   "metadata": {},
   "outputs": [
    {
     "data": {
      "text/html": [
       "<div>\n",
       "<style scoped>\n",
       "    .dataframe tbody tr th:only-of-type {\n",
       "        vertical-align: middle;\n",
       "    }\n",
       "\n",
       "    .dataframe tbody tr th {\n",
       "        vertical-align: top;\n",
       "    }\n",
       "\n",
       "    .dataframe thead th {\n",
       "        text-align: right;\n",
       "    }\n",
       "</style>\n",
       "<table border=\"1\" class=\"dataframe\">\n",
       "  <thead>\n",
       "    <tr style=\"text-align: right;\">\n",
       "      <th></th>\n",
       "      <th>pl_name</th>\n",
       "      <th>st_mass</th>\n",
       "      <th>pl_bmasse</th>\n",
       "      <th>pl_insol</th>\n",
       "      <th>pl_ratdor</th>\n",
       "      <th>sy_dist</th>\n",
       "    </tr>\n",
       "  </thead>\n",
       "  <tbody>\n",
       "    <tr>\n",
       "      <th>4696</th>\n",
       "      <td>Proxima Cen b</td>\n",
       "      <td>0.12</td>\n",
       "      <td>1.27000</td>\n",
       "      <td>0.65</td>\n",
       "      <td>NaN</td>\n",
       "      <td>1.30119</td>\n",
       "    </tr>\n",
       "    <tr>\n",
       "      <th>5152</th>\n",
       "      <td>eps Eri b</td>\n",
       "      <td>0.82</td>\n",
       "      <td>209.76675</td>\n",
       "      <td>NaN</td>\n",
       "      <td>NaN</td>\n",
       "      <td>3.20260</td>\n",
       "    </tr>\n",
       "    <tr>\n",
       "      <th>284</th>\n",
       "      <td>GJ 887 b</td>\n",
       "      <td>0.49</td>\n",
       "      <td>4.20000</td>\n",
       "      <td>7.95</td>\n",
       "      <td>NaN</td>\n",
       "      <td>3.29000</td>\n",
       "    </tr>\n",
       "    <tr>\n",
       "      <th>285</th>\n",
       "      <td>GJ 887 c</td>\n",
       "      <td>0.49</td>\n",
       "      <td>7.60000</td>\n",
       "      <td>2.56</td>\n",
       "      <td>NaN</td>\n",
       "      <td>3.29000</td>\n",
       "    </tr>\n",
       "    <tr>\n",
       "      <th>4710</th>\n",
       "      <td>Ross 128 b</td>\n",
       "      <td>0.17</td>\n",
       "      <td>1.40000</td>\n",
       "      <td>1.38</td>\n",
       "      <td>NaN</td>\n",
       "      <td>3.37454</td>\n",
       "    </tr>\n",
       "    <tr>\n",
       "      <th>185</th>\n",
       "      <td>GJ 15 A b</td>\n",
       "      <td>0.38</td>\n",
       "      <td>3.03000</td>\n",
       "      <td>NaN</td>\n",
       "      <td>NaN</td>\n",
       "      <td>3.56228</td>\n",
       "    </tr>\n",
       "    <tr>\n",
       "      <th>186</th>\n",
       "      <td>GJ 15 A c</td>\n",
       "      <td>0.38</td>\n",
       "      <td>36.00000</td>\n",
       "      <td>NaN</td>\n",
       "      <td>NaN</td>\n",
       "      <td>3.56228</td>\n",
       "    </tr>\n",
       "    <tr>\n",
       "      <th>5178</th>\n",
       "      <td>tau Cet f</td>\n",
       "      <td>0.78</td>\n",
       "      <td>3.93000</td>\n",
       "      <td>NaN</td>\n",
       "      <td>NaN</td>\n",
       "      <td>3.60304</td>\n",
       "    </tr>\n",
       "    <tr>\n",
       "      <th>5177</th>\n",
       "      <td>tau Cet e</td>\n",
       "      <td>0.78</td>\n",
       "      <td>3.93000</td>\n",
       "      <td>NaN</td>\n",
       "      <td>NaN</td>\n",
       "      <td>3.60304</td>\n",
       "    </tr>\n",
       "    <tr>\n",
       "      <th>5179</th>\n",
       "      <td>tau Cet g</td>\n",
       "      <td>0.78</td>\n",
       "      <td>1.75000</td>\n",
       "      <td>NaN</td>\n",
       "      <td>NaN</td>\n",
       "      <td>3.60304</td>\n",
       "    </tr>\n",
       "    <tr>\n",
       "      <th>5180</th>\n",
       "      <td>tau Cet h</td>\n",
       "      <td>0.78</td>\n",
       "      <td>1.83000</td>\n",
       "      <td>NaN</td>\n",
       "      <td>NaN</td>\n",
       "      <td>3.60304</td>\n",
       "    </tr>\n",
       "    <tr>\n",
       "      <th>5153</th>\n",
       "      <td>eps Ind A b</td>\n",
       "      <td>0.75</td>\n",
       "      <td>1032.94750</td>\n",
       "      <td>NaN</td>\n",
       "      <td>NaN</td>\n",
       "      <td>3.63857</td>\n",
       "    </tr>\n",
       "    <tr>\n",
       "      <th>174</th>\n",
       "      <td>GJ 1061 b</td>\n",
       "      <td>0.12</td>\n",
       "      <td>1.37000</td>\n",
       "      <td>3.80</td>\n",
       "      <td>NaN</td>\n",
       "      <td>3.67278</td>\n",
       "    </tr>\n",
       "    <tr>\n",
       "      <th>175</th>\n",
       "      <td>GJ 1061 c</td>\n",
       "      <td>0.12</td>\n",
       "      <td>1.74000</td>\n",
       "      <td>1.40</td>\n",
       "      <td>NaN</td>\n",
       "      <td>3.67278</td>\n",
       "    </tr>\n",
       "    <tr>\n",
       "      <th>176</th>\n",
       "      <td>GJ 1061 d</td>\n",
       "      <td>0.12</td>\n",
       "      <td>1.64000</td>\n",
       "      <td>0.60</td>\n",
       "      <td>NaN</td>\n",
       "      <td>3.67278</td>\n",
       "    </tr>\n",
       "    <tr>\n",
       "      <th>5143</th>\n",
       "      <td>YZ Cet d</td>\n",
       "      <td>0.14</td>\n",
       "      <td>1.09000</td>\n",
       "      <td>2.70</td>\n",
       "      <td>NaN</td>\n",
       "      <td>3.71207</td>\n",
       "    </tr>\n",
       "    <tr>\n",
       "      <th>5142</th>\n",
       "      <td>YZ Cet c</td>\n",
       "      <td>0.14</td>\n",
       "      <td>1.14000</td>\n",
       "      <td>4.72</td>\n",
       "      <td>NaN</td>\n",
       "      <td>3.71207</td>\n",
       "    </tr>\n",
       "    <tr>\n",
       "      <th>5141</th>\n",
       "      <td>YZ Cet b</td>\n",
       "      <td>0.14</td>\n",
       "      <td>0.70000</td>\n",
       "      <td>8.21</td>\n",
       "      <td>NaN</td>\n",
       "      <td>3.71207</td>\n",
       "    </tr>\n",
       "    <tr>\n",
       "      <th>4924</th>\n",
       "      <td>Teegarden's Star c</td>\n",
       "      <td>0.09</td>\n",
       "      <td>1.11000</td>\n",
       "      <td>0.37</td>\n",
       "      <td>NaN</td>\n",
       "      <td>3.83078</td>\n",
       "    </tr>\n",
       "    <tr>\n",
       "      <th>4923</th>\n",
       "      <td>Teegarden's Star b</td>\n",
       "      <td>0.09</td>\n",
       "      <td>1.05000</td>\n",
       "      <td>1.15</td>\n",
       "      <td>NaN</td>\n",
       "      <td>3.83078</td>\n",
       "    </tr>\n",
       "    <tr>\n",
       "      <th>1834</th>\n",
       "      <td>Kapteyn c</td>\n",
       "      <td>0.28</td>\n",
       "      <td>7.00000</td>\n",
       "      <td>NaN</td>\n",
       "      <td>NaN</td>\n",
       "      <td>3.93305</td>\n",
       "    </tr>\n",
       "    <tr>\n",
       "      <th>5129</th>\n",
       "      <td>Wolf 1061 d</td>\n",
       "      <td>0.29</td>\n",
       "      <td>7.70000</td>\n",
       "      <td>0.06</td>\n",
       "      <td>NaN</td>\n",
       "      <td>4.30592</td>\n",
       "    </tr>\n",
       "    <tr>\n",
       "      <th>5127</th>\n",
       "      <td>Wolf 1061 b</td>\n",
       "      <td>0.29</td>\n",
       "      <td>1.91000</td>\n",
       "      <td>7.34</td>\n",
       "      <td>NaN</td>\n",
       "      <td>4.30592</td>\n",
       "    </tr>\n",
       "    <tr>\n",
       "      <th>5128</th>\n",
       "      <td>Wolf 1061 c</td>\n",
       "      <td>0.29</td>\n",
       "      <td>3.41000</td>\n",
       "      <td>1.30</td>\n",
       "      <td>NaN</td>\n",
       "      <td>4.30592</td>\n",
       "    </tr>\n",
       "    <tr>\n",
       "      <th>287</th>\n",
       "      <td>GJ 9066 c</td>\n",
       "      <td>0.15</td>\n",
       "      <td>66.74397</td>\n",
       "      <td>NaN</td>\n",
       "      <td>NaN</td>\n",
       "      <td>4.47100</td>\n",
       "    </tr>\n",
       "    <tr>\n",
       "      <th>263</th>\n",
       "      <td>GJ 674 b</td>\n",
       "      <td>0.35</td>\n",
       "      <td>11.09000</td>\n",
       "      <td>NaN</td>\n",
       "      <td>NaN</td>\n",
       "      <td>4.54896</td>\n",
       "    </tr>\n",
       "    <tr>\n",
       "      <th>272</th>\n",
       "      <td>GJ 687 b</td>\n",
       "      <td>0.40</td>\n",
       "      <td>17.20000</td>\n",
       "      <td>NaN</td>\n",
       "      <td>NaN</td>\n",
       "      <td>4.54939</td>\n",
       "    </tr>\n",
       "    <tr>\n",
       "      <th>273</th>\n",
       "      <td>GJ 687 c</td>\n",
       "      <td>0.40</td>\n",
       "      <td>16.00000</td>\n",
       "      <td>NaN</td>\n",
       "      <td>NaN</td>\n",
       "      <td>4.54939</td>\n",
       "    </tr>\n",
       "  </tbody>\n",
       "</table>\n",
       "</div>"
      ],
      "text/plain": [
       "                 pl_name  st_mass   pl_bmasse  pl_insol  pl_ratdor  sy_dist\n",
       "4696       Proxima Cen b     0.12     1.27000      0.65        NaN  1.30119\n",
       "5152           eps Eri b     0.82   209.76675       NaN        NaN  3.20260\n",
       "284             GJ 887 b     0.49     4.20000      7.95        NaN  3.29000\n",
       "285             GJ 887 c     0.49     7.60000      2.56        NaN  3.29000\n",
       "4710          Ross 128 b     0.17     1.40000      1.38        NaN  3.37454\n",
       "185            GJ 15 A b     0.38     3.03000       NaN        NaN  3.56228\n",
       "186            GJ 15 A c     0.38    36.00000       NaN        NaN  3.56228\n",
       "5178           tau Cet f     0.78     3.93000       NaN        NaN  3.60304\n",
       "5177           tau Cet e     0.78     3.93000       NaN        NaN  3.60304\n",
       "5179           tau Cet g     0.78     1.75000       NaN        NaN  3.60304\n",
       "5180           tau Cet h     0.78     1.83000       NaN        NaN  3.60304\n",
       "5153         eps Ind A b     0.75  1032.94750       NaN        NaN  3.63857\n",
       "174            GJ 1061 b     0.12     1.37000      3.80        NaN  3.67278\n",
       "175            GJ 1061 c     0.12     1.74000      1.40        NaN  3.67278\n",
       "176            GJ 1061 d     0.12     1.64000      0.60        NaN  3.67278\n",
       "5143            YZ Cet d     0.14     1.09000      2.70        NaN  3.71207\n",
       "5142            YZ Cet c     0.14     1.14000      4.72        NaN  3.71207\n",
       "5141            YZ Cet b     0.14     0.70000      8.21        NaN  3.71207\n",
       "4924  Teegarden's Star c     0.09     1.11000      0.37        NaN  3.83078\n",
       "4923  Teegarden's Star b     0.09     1.05000      1.15        NaN  3.83078\n",
       "1834           Kapteyn c     0.28     7.00000       NaN        NaN  3.93305\n",
       "5129         Wolf 1061 d     0.29     7.70000      0.06        NaN  4.30592\n",
       "5127         Wolf 1061 b     0.29     1.91000      7.34        NaN  4.30592\n",
       "5128         Wolf 1061 c     0.29     3.41000      1.30        NaN  4.30592\n",
       "287            GJ 9066 c     0.15    66.74397       NaN        NaN  4.47100\n",
       "263             GJ 674 b     0.35    11.09000       NaN        NaN  4.54896\n",
       "272             GJ 687 b     0.40    17.20000       NaN        NaN  4.54939\n",
       "273             GJ 687 c     0.40    16.00000       NaN        NaN  4.54939"
      ]
     },
     "execution_count": 127,
     "metadata": {},
     "output_type": "execute_result"
    }
   ],
   "source": [
    "test = df.loc[df['sy_dist'] <= 4.6].sort_values('sy_dist')\n",
    "test[[\n",
    "    'pl_name',\n",
    "    'st_mass', \n",
    "    'pl_bmasse', \n",
    "    'pl_insol',\n",
    "    'pl_ratdor', \n",
    "    'sy_dist'\n",
    "    ]]"
   ]
  }
 ],
 "metadata": {
  "kernelspec": {
   "display_name": "Python 3.9.12 ('base')",
   "language": "python",
   "name": "python3"
  },
  "language_info": {
   "codemirror_mode": {
    "name": "ipython",
    "version": 3
   },
   "file_extension": ".py",
   "mimetype": "text/x-python",
   "name": "python",
   "nbconvert_exporter": "python",
   "pygments_lexer": "ipython3",
   "version": "3.9.12"
  },
  "orig_nbformat": 4,
  "vscode": {
   "interpreter": {
    "hash": "465bc43bf4cbae58c142e3527ff2b05702dd810bc8ebc4f627e0af6c067b87a4"
   }
  }
 },
 "nbformat": 4,
 "nbformat_minor": 2
}
